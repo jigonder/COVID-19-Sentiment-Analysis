{
 "cells": [
  {
   "cell_type": "code",
   "execution_count": 47,
   "metadata": {
    "scrolled": true
   },
   "outputs": [
    {
     "name": "stdout",
     "output_type": "stream",
     "text": [
      "Collecting textblob\n",
      "  Downloading textblob-0.15.3-py2.py3-none-any.whl (636 kB)\n",
      "Requirement already satisfied, skipping upgrade: nltk>=3.1 in c:\\users\\todds\\anaconda3\\envs\\pythondata\\lib\\site-packages (from textblob) (3.5)\n",
      "Requirement already satisfied, skipping upgrade: regex in c:\\users\\todds\\anaconda3\\envs\\pythondata\\lib\\site-packages (from nltk>=3.1->textblob) (2020.5.14)\n",
      "Requirement already satisfied, skipping upgrade: tqdm in c:\\users\\todds\\anaconda3\\envs\\pythondata\\lib\\site-packages (from nltk>=3.1->textblob) (4.46.1)\n",
      "Requirement already satisfied, skipping upgrade: joblib in c:\\users\\todds\\anaconda3\\envs\\pythondata\\lib\\site-packages (from nltk>=3.1->textblob) (0.15.1)\n",
      "Requirement already satisfied, skipping upgrade: click in c:\\users\\todds\\anaconda3\\envs\\pythondata\\lib\\site-packages (from nltk>=3.1->textblob) (7.1.2)\n",
      "Installing collected packages: textblob\n",
      "Successfully installed textblob-0.15.3\n"
     ]
    }
   ],
   "source": [
    "# pip install textblob\n",
    "!pip install -U textblob"
   ]
  },
  {
   "cell_type": "code",
   "execution_count": 1,
   "metadata": {},
   "outputs": [
    {
     "ename": "NameError",
     "evalue": "name '__file__' is not defined",
     "output_type": "error",
     "traceback": [
      "\u001b[1;31m---------------------------------------------------------------------------\u001b[0m",
      "\u001b[1;31mNameError\u001b[0m                                 Traceback (most recent call last)",
      "\u001b[1;32m<ipython-input-1-678fb9d5eedc>\u001b[0m in \u001b[0;36m<module>\u001b[1;34m\u001b[0m\n\u001b[0;32m      1\u001b[0m \u001b[1;31m# Load preprocess, emoji functions\u001b[0m\u001b[1;33m\u001b[0m\u001b[1;33m\u001b[0m\u001b[1;33m\u001b[0m\u001b[0m\n\u001b[1;32m----> 2\u001b[1;33m \u001b[1;32mfrom\u001b[0m \u001b[0mipynb\u001b[0m\u001b[1;33m.\u001b[0m\u001b[0mfs\u001b[0m\u001b[1;33m.\u001b[0m\u001b[0mdefs\u001b[0m\u001b[1;33m.\u001b[0m\u001b[0mtextblob\u001b[0m \u001b[1;32mimport\u001b[0m \u001b[0mconvert_emojis\u001b[0m\u001b[1;33m\u001b[0m\u001b[1;33m\u001b[0m\u001b[0m\n\u001b[0m\u001b[0;32m      3\u001b[0m \u001b[1;32mfrom\u001b[0m \u001b[0mipynb\u001b[0m\u001b[1;33m.\u001b[0m\u001b[0mfs\u001b[0m\u001b[1;33m.\u001b[0m\u001b[0mfull\u001b[0m\u001b[1;33m.\u001b[0m\u001b[0mUnicode_emojis\u001b[0m \u001b[1;32mimport\u001b[0m \u001b[0mUNICODE_EMO\u001b[0m\u001b[1;33m\u001b[0m\u001b[1;33m\u001b[0m\u001b[0m\n",
      "\u001b[1;32m~\\anaconda3\\lib\\site-packages\\textblob\\__init__.py\u001b[0m in \u001b[0;36m<module>\u001b[1;34m\u001b[0m\n\u001b[0;32m      6\u001b[0m \u001b[0m__author__\u001b[0m \u001b[1;33m=\u001b[0m \u001b[1;34m'Steven Loria'\u001b[0m\u001b[1;33m\u001b[0m\u001b[1;33m\u001b[0m\u001b[0m\n\u001b[0;32m      7\u001b[0m \u001b[1;33m\u001b[0m\u001b[0m\n\u001b[1;32m----> 8\u001b[1;33m \u001b[0mPACKAGE_DIR\u001b[0m \u001b[1;33m=\u001b[0m \u001b[0mos\u001b[0m\u001b[1;33m.\u001b[0m\u001b[0mpath\u001b[0m\u001b[1;33m.\u001b[0m\u001b[0mdirname\u001b[0m\u001b[1;33m(\u001b[0m\u001b[0mos\u001b[0m\u001b[1;33m.\u001b[0m\u001b[0mpath\u001b[0m\u001b[1;33m.\u001b[0m\u001b[0mabspath\u001b[0m\u001b[1;33m(\u001b[0m\u001b[0m__file__\u001b[0m\u001b[1;33m)\u001b[0m\u001b[1;33m)\u001b[0m\u001b[1;33m\u001b[0m\u001b[1;33m\u001b[0m\u001b[0m\n\u001b[0m\u001b[0;32m      9\u001b[0m \u001b[1;33m\u001b[0m\u001b[0m\n\u001b[0;32m     10\u001b[0m __all__ = [\n",
      "\u001b[1;31mNameError\u001b[0m: name '__file__' is not defined"
     ]
    }
   ],
   "source": [
    "# Load preprocess, emoji functions\n",
    "from ipynb.fs.defs.textblob import convert_emojis\n",
    "from ipynb.fs.full.Unicode_emojis import UNICODE_EMO"
   ]
  },
  {
   "cell_type": "code",
   "execution_count": 110,
   "metadata": {},
   "outputs": [],
   "source": [
    "# Import dependencies\n",
    "\n",
    "# Libraries \n",
    "import pandas as pd\n",
    "import numpy as np\n",
    "import matplotlib.pyplot as plt\n",
    "import matplotlib.ticker as ticker\n",
    "from matplotlib.ticker import (MultipleLocator)\n",
    "from datetime import datetime\n",
    "\n",
    "\n",
    "# Load preprocess function\n",
    "\n",
    "# Load textblob module\n",
    "from textblob import TextBlob\n",
    "\n",
    "\n",
    "# set option to see full tweet text\n",
    "pd.set_option('display.max_colwidth', None)"
   ]
  },
  {
   "cell_type": "code",
   "execution_count": 2,
   "metadata": {},
   "outputs": [
    {
     "data": {
      "text/html": [
       "<div>\n",
       "<style scoped>\n",
       "    .dataframe tbody tr th:only-of-type {\n",
       "        vertical-align: middle;\n",
       "    }\n",
       "\n",
       "    .dataframe tbody tr th {\n",
       "        vertical-align: top;\n",
       "    }\n",
       "\n",
       "    .dataframe thead th {\n",
       "        text-align: right;\n",
       "    }\n",
       "</style>\n",
       "<table border=\"1\" class=\"dataframe\">\n",
       "  <thead>\n",
       "    <tr style=\"text-align: right;\">\n",
       "      <th></th>\n",
       "      <th>created_at</th>\n",
       "      <th>id</th>\n",
       "      <th>text</th>\n",
       "      <th>retweets</th>\n",
       "      <th>replies</th>\n",
       "      <th>likes</th>\n",
       "      <th>quotes</th>\n",
       "    </tr>\n",
       "  </thead>\n",
       "  <tbody>\n",
       "    <tr>\n",
       "      <th>0</th>\n",
       "      <td>2020-11-21T14:42:11.000Z</td>\n",
       "      <td>1330159581255897095</td>\n",
       "      <td>Man, we were ready to play with COVID positive players.\\n\\nFixed that for ya, Trevor! https://t.co/DxgpLNroKr</td>\n",
       "      <td>0.0</td>\n",
       "      <td>0.0</td>\n",
       "      <td>0.0</td>\n",
       "      <td>0.0</td>\n",
       "    </tr>\n",
       "    <tr>\n",
       "      <th>1</th>\n",
       "      <td>2020-11-21T14:42:11.000Z</td>\n",
       "      <td>1330159581226557442</td>\n",
       "      <td>@DiscernedEd @mmjblair @emilia_suze My dad had his flu vax a couple of wks ago, 2 days later woke during night with high temp, pounding headache and next morning had lost his sense of smell! He booked a covid test which came back negative. Coincidence? Who knows.</td>\n",
       "      <td>0.0</td>\n",
       "      <td>0.0</td>\n",
       "      <td>0.0</td>\n",
       "      <td>0.0</td>\n",
       "    </tr>\n",
       "    <tr>\n",
       "      <th>2</th>\n",
       "      <td>2020-11-21T14:42:11.000Z</td>\n",
       "      <td>1330159581121695748</td>\n",
       "      <td>Congratulations! @msm_prc @MSM_NCPC @COVID_19Network https://t.co/aOIrw2uyke</td>\n",
       "      <td>0.0</td>\n",
       "      <td>0.0</td>\n",
       "      <td>0.0</td>\n",
       "      <td>0.0</td>\n",
       "    </tr>\n",
       "    <tr>\n",
       "      <th>3</th>\n",
       "      <td>2020-11-21T14:42:11.000Z</td>\n",
       "      <td>1330159581104889856</td>\n",
       "      <td>After spending a lot of time with my mom in the hospital for a week, I have scheduled an appointment for a covid test for tomorrow morning. I feel fine but I want to protect those around me just incase I am asymptomatic. I don't want to unknowingly put others at risk.</td>\n",
       "      <td>0.0</td>\n",
       "      <td>0.0</td>\n",
       "      <td>0.0</td>\n",
       "      <td>0.0</td>\n",
       "    </tr>\n",
       "    <tr>\n",
       "      <th>4</th>\n",
       "      <td>2020-11-21T14:42:11.000Z</td>\n",
       "      <td>1330159580786077704</td>\n",
       "      <td>My last ex girlfriend said Covid was a ploy to get all the depressed people locked into their homes to basically kill themselves off. That shit lives rent free in my head lol.</td>\n",
       "      <td>0.0</td>\n",
       "      <td>0.0</td>\n",
       "      <td>0.0</td>\n",
       "      <td>0.0</td>\n",
       "    </tr>\n",
       "  </tbody>\n",
       "</table>\n",
       "</div>"
      ],
      "text/plain": [
       "                 created_at                   id  \\\n",
       "0  2020-11-21T14:42:11.000Z  1330159581255897095   \n",
       "1  2020-11-21T14:42:11.000Z  1330159581226557442   \n",
       "2  2020-11-21T14:42:11.000Z  1330159581121695748   \n",
       "3  2020-11-21T14:42:11.000Z  1330159581104889856   \n",
       "4  2020-11-21T14:42:11.000Z  1330159580786077704   \n",
       "\n",
       "                                                                                                                                                                                                                                                                           text  \\\n",
       "0                                                                                                                                                                 Man, we were ready to play with COVID positive players.\\n\\nFixed that for ya, Trevor! https://t.co/DxgpLNroKr   \n",
       "1       @DiscernedEd @mmjblair @emilia_suze My dad had his flu vax a couple of wks ago, 2 days later woke during night with high temp, pounding headache and next morning had lost his sense of smell! He booked a covid test which came back negative. Coincidence? Who knows.   \n",
       "2                                                                                                                                                                                                  Congratulations! @msm_prc @MSM_NCPC @COVID_19Network https://t.co/aOIrw2uyke   \n",
       "3  After spending a lot of time with my mom in the hospital for a week, I have scheduled an appointment for a covid test for tomorrow morning. I feel fine but I want to protect those around me just incase I am asymptomatic. I don't want to unknowingly put others at risk.   \n",
       "4                                                                                               My last ex girlfriend said Covid was a ploy to get all the depressed people locked into their homes to basically kill themselves off. That shit lives rent free in my head lol.   \n",
       "\n",
       "   retweets  replies  likes  quotes  \n",
       "0       0.0      0.0    0.0     0.0  \n",
       "1       0.0      0.0    0.0     0.0  \n",
       "2       0.0      0.0    0.0     0.0  \n",
       "3       0.0      0.0    0.0     0.0  \n",
       "4       0.0      0.0    0.0     0.0  "
      ]
     },
     "execution_count": 2,
     "metadata": {},
     "output_type": "execute_result"
    }
   ],
   "source": [
    "# Load twitter data\n",
    "data = pd.read_csv(\"tweet_data_11.21.20.csv\")\n",
    "\n",
    "# Select columns and rename\n",
    "columns = [\"created_at\", \"id\", \"text\", \"public_metrics.retweet_count\", \n",
    "           \"public_metrics.reply_count\", \"public_metrics.like_count\", \"public_metrics.quote_count\"]\n",
    "\n",
    "data = data[columns]\n",
    "data = data.rename(columns={\"public_metrics.retweet_count\": \"retweets\", \"public_metrics.reply_count\": \"replies\", \n",
    "                            \"public_metrics.like_count\": \"likes\", \"public_metrics.quote_count\": \"quotes\"})\n",
    "data.head()"
   ]
  },
  {
   "cell_type": "code",
   "execution_count": 3,
   "metadata": {},
   "outputs": [
    {
     "name": "stdout",
     "output_type": "stream",
     "text": [
      "<class 'pandas.core.frame.DataFrame'>\n",
      "Int64Index: 200371 entries, 0 to 200372\n",
      "Data columns (total 7 columns):\n",
      " #   Column      Non-Null Count   Dtype  \n",
      "---  ------      --------------   -----  \n",
      " 0   created_at  200371 non-null  object \n",
      " 1   id          200371 non-null  int64  \n",
      " 2   text        200371 non-null  object \n",
      " 3   retweets    200371 non-null  float64\n",
      " 4   replies     200371 non-null  float64\n",
      " 5   likes       200371 non-null  float64\n",
      " 6   quotes      200371 non-null  float64\n",
      "dtypes: float64(4), int64(1), object(2)\n",
      "memory usage: 12.2+ MB\n"
     ]
    }
   ],
   "source": [
    "# Drop null values; check for duplicate data\n",
    "\n",
    "data = data.dropna()\n",
    "data.reset_index(drop=True)\n",
    "data.info()\n"
   ]
  },
  {
   "cell_type": "code",
   "execution_count": 4,
   "metadata": {},
   "outputs": [
    {
     "data": {
      "text/html": [
       "<div>\n",
       "<style scoped>\n",
       "    .dataframe tbody tr th:only-of-type {\n",
       "        vertical-align: middle;\n",
       "    }\n",
       "\n",
       "    .dataframe tbody tr th {\n",
       "        vertical-align: top;\n",
       "    }\n",
       "\n",
       "    .dataframe thead th {\n",
       "        text-align: right;\n",
       "    }\n",
       "</style>\n",
       "<table border=\"1\" class=\"dataframe\">\n",
       "  <thead>\n",
       "    <tr style=\"text-align: right;\">\n",
       "      <th></th>\n",
       "      <th>created_at</th>\n",
       "      <th>id</th>\n",
       "      <th>text</th>\n",
       "      <th>retweets</th>\n",
       "      <th>replies</th>\n",
       "      <th>likes</th>\n",
       "      <th>quotes</th>\n",
       "      <th>date</th>\n",
       "      <th>time</th>\n",
       "    </tr>\n",
       "  </thead>\n",
       "  <tbody>\n",
       "    <tr>\n",
       "      <th>0</th>\n",
       "      <td>2020-11-21 14:42:11+00:00</td>\n",
       "      <td>1330159581255897095</td>\n",
       "      <td>Man, we were ready to play with COVID positive players.\\n\\nFixed that for ya, Trevor! https://t.co/DxgpLNroKr</td>\n",
       "      <td>0.0</td>\n",
       "      <td>0.0</td>\n",
       "      <td>0.0</td>\n",
       "      <td>0.0</td>\n",
       "      <td>2020-11-21</td>\n",
       "      <td>14:42:00</td>\n",
       "    </tr>\n",
       "    <tr>\n",
       "      <th>1</th>\n",
       "      <td>2020-11-21 14:42:11+00:00</td>\n",
       "      <td>1330159581226557442</td>\n",
       "      <td>@DiscernedEd @mmjblair @emilia_suze My dad had his flu vax a couple of wks ago, 2 days later woke during night with high temp, pounding headache and next morning had lost his sense of smell! He booked a covid test which came back negative. Coincidence? Who knows.</td>\n",
       "      <td>0.0</td>\n",
       "      <td>0.0</td>\n",
       "      <td>0.0</td>\n",
       "      <td>0.0</td>\n",
       "      <td>2020-11-21</td>\n",
       "      <td>14:42:00</td>\n",
       "    </tr>\n",
       "    <tr>\n",
       "      <th>2</th>\n",
       "      <td>2020-11-21 14:42:11+00:00</td>\n",
       "      <td>1330159581121695748</td>\n",
       "      <td>Congratulations! @msm_prc @MSM_NCPC @COVID_19Network https://t.co/aOIrw2uyke</td>\n",
       "      <td>0.0</td>\n",
       "      <td>0.0</td>\n",
       "      <td>0.0</td>\n",
       "      <td>0.0</td>\n",
       "      <td>2020-11-21</td>\n",
       "      <td>14:42:00</td>\n",
       "    </tr>\n",
       "    <tr>\n",
       "      <th>3</th>\n",
       "      <td>2020-11-21 14:42:11+00:00</td>\n",
       "      <td>1330159581104889856</td>\n",
       "      <td>After spending a lot of time with my mom in the hospital for a week, I have scheduled an appointment for a covid test for tomorrow morning. I feel fine but I want to protect those around me just incase I am asymptomatic. I don't want to unknowingly put others at risk.</td>\n",
       "      <td>0.0</td>\n",
       "      <td>0.0</td>\n",
       "      <td>0.0</td>\n",
       "      <td>0.0</td>\n",
       "      <td>2020-11-21</td>\n",
       "      <td>14:42:00</td>\n",
       "    </tr>\n",
       "    <tr>\n",
       "      <th>4</th>\n",
       "      <td>2020-11-21 14:42:11+00:00</td>\n",
       "      <td>1330159580786077704</td>\n",
       "      <td>My last ex girlfriend said Covid was a ploy to get all the depressed people locked into their homes to basically kill themselves off. That shit lives rent free in my head lol.</td>\n",
       "      <td>0.0</td>\n",
       "      <td>0.0</td>\n",
       "      <td>0.0</td>\n",
       "      <td>0.0</td>\n",
       "      <td>2020-11-21</td>\n",
       "      <td>14:42:00</td>\n",
       "    </tr>\n",
       "  </tbody>\n",
       "</table>\n",
       "</div>"
      ],
      "text/plain": [
       "                 created_at                   id  \\\n",
       "0 2020-11-21 14:42:11+00:00  1330159581255897095   \n",
       "1 2020-11-21 14:42:11+00:00  1330159581226557442   \n",
       "2 2020-11-21 14:42:11+00:00  1330159581121695748   \n",
       "3 2020-11-21 14:42:11+00:00  1330159581104889856   \n",
       "4 2020-11-21 14:42:11+00:00  1330159580786077704   \n",
       "\n",
       "                                                                                                                                                                                                                                                                           text  \\\n",
       "0                                                                                                                                                                 Man, we were ready to play with COVID positive players.\\n\\nFixed that for ya, Trevor! https://t.co/DxgpLNroKr   \n",
       "1       @DiscernedEd @mmjblair @emilia_suze My dad had his flu vax a couple of wks ago, 2 days later woke during night with high temp, pounding headache and next morning had lost his sense of smell! He booked a covid test which came back negative. Coincidence? Who knows.   \n",
       "2                                                                                                                                                                                                  Congratulations! @msm_prc @MSM_NCPC @COVID_19Network https://t.co/aOIrw2uyke   \n",
       "3  After spending a lot of time with my mom in the hospital for a week, I have scheduled an appointment for a covid test for tomorrow morning. I feel fine but I want to protect those around me just incase I am asymptomatic. I don't want to unknowingly put others at risk.   \n",
       "4                                                                                               My last ex girlfriend said Covid was a ploy to get all the depressed people locked into their homes to basically kill themselves off. That shit lives rent free in my head lol.   \n",
       "\n",
       "   retweets  replies  likes  quotes        date      time  \n",
       "0       0.0      0.0    0.0     0.0  2020-11-21  14:42:00  \n",
       "1       0.0      0.0    0.0     0.0  2020-11-21  14:42:00  \n",
       "2       0.0      0.0    0.0     0.0  2020-11-21  14:42:00  \n",
       "3       0.0      0.0    0.0     0.0  2020-11-21  14:42:00  \n",
       "4       0.0      0.0    0.0     0.0  2020-11-21  14:42:00  "
      ]
     },
     "execution_count": 4,
     "metadata": {},
     "output_type": "execute_result"
    }
   ],
   "source": [
    "# Convert \"created_at\" from ISO 8601 to datetime; extract year and time info; round time to minutes\n",
    "\n",
    "data[\"created_at\"] = pd.to_datetime(data[\"created_at\"], utc=True)\n",
    "data[\"date\"] = data[\"created_at\"].dt.date\n",
    "data[\"time\"] = data[\"created_at\"].dt.round('min').dt.time\n",
    "\n",
    "data.head()\n"
   ]
  },
  {
   "cell_type": "code",
   "execution_count": 5,
   "metadata": {},
   "outputs": [
    {
     "name": "stdout",
     "output_type": "stream",
     "text": [
      "0.18409090909090908 0.4151515151515151\n",
      "-0.027999999999999997 0.188\n",
      "0.0 0.0\n",
      "0.4166666666666667 0.5\n",
      "0.25 0.5916666666666667\n",
      "0.8 1.0\n"
     ]
    },
    {
     "data": {
      "text/plain": [
       "float"
      ]
     },
     "execution_count": 5,
     "metadata": {},
     "output_type": "execute_result"
    }
   ],
   "source": [
    "# Test textblob sentiment analysis\n",
    "\n",
    "test = data.loc[0:5]\n",
    "\n",
    "polarity1 = []\n",
    "subjectivity1 =[]\n",
    "\n",
    "\n",
    "for item in range(0, len(test)):\n",
    "    sent = TextBlob(test['text'][item]).sentiment\n",
    "    polar = sent[0]\n",
    "    subject = sent[1]\n",
    "    polarity1.append(sent[0])\n",
    "    subjectivity1.append(sent[1])\n",
    "    print(polar, subject)\n",
    "\n",
    "# test['polarity'] = polarity\n",
    "test.insert(9, 'polarity', polarity1, True)\n",
    "test.insert(10, 'subjectivity', subjectivity1, True)\n",
    "\n",
    "type(polarity1[0])"
   ]
  },
  {
   "cell_type": "code",
   "execution_count": 7,
   "metadata": {},
   "outputs": [
    {
     "name": "stdout",
     "output_type": "stream",
     "text": [
      "KeyError: Continuing\n",
      "KeyError: Continuing\n"
     ]
    }
   ],
   "source": [
    "# Create polarity and subjectivity measures for full dataset \"tweet_data_11.21.20\"\n",
    "\n",
    "polarity = []\n",
    "subjectivity =[]\n",
    "\n",
    "\n",
    "for item in range(0, len(data)):\n",
    "    try:\n",
    "        sent = TextBlob(data['text'][item]).sentiment\n",
    "        polarity.append(sent[0])\n",
    "        subjectivity.append(sent[1])\n",
    "    except KeyError:\n",
    "        polarity.append(float(0))\n",
    "        subjectivity.append(float(0))\n",
    "        print('KeyError: Continuing')\n",
    "\n",
    "        "
   ]
  },
  {
   "cell_type": "code",
   "execution_count": 8,
   "metadata": {},
   "outputs": [
    {
     "data": {
      "text/html": [
       "<div>\n",
       "<style scoped>\n",
       "    .dataframe tbody tr th:only-of-type {\n",
       "        vertical-align: middle;\n",
       "    }\n",
       "\n",
       "    .dataframe tbody tr th {\n",
       "        vertical-align: top;\n",
       "    }\n",
       "\n",
       "    .dataframe thead th {\n",
       "        text-align: right;\n",
       "    }\n",
       "</style>\n",
       "<table border=\"1\" class=\"dataframe\">\n",
       "  <thead>\n",
       "    <tr style=\"text-align: right;\">\n",
       "      <th></th>\n",
       "      <th>created_at</th>\n",
       "      <th>id</th>\n",
       "      <th>text</th>\n",
       "      <th>retweets</th>\n",
       "      <th>replies</th>\n",
       "      <th>likes</th>\n",
       "      <th>quotes</th>\n",
       "      <th>date</th>\n",
       "      <th>time</th>\n",
       "      <th>polarity</th>\n",
       "      <th>subjectivity</th>\n",
       "    </tr>\n",
       "  </thead>\n",
       "  <tbody>\n",
       "    <tr>\n",
       "      <th>0</th>\n",
       "      <td>2020-11-21 14:42:11+00:00</td>\n",
       "      <td>1330159581255897095</td>\n",
       "      <td>Man, we were ready to play with COVID positive players.\\n\\nFixed that for ya, Trevor! https://t.co/DxgpLNroKr</td>\n",
       "      <td>0.0</td>\n",
       "      <td>0.0</td>\n",
       "      <td>0.0</td>\n",
       "      <td>0.0</td>\n",
       "      <td>2020-11-21</td>\n",
       "      <td>14:42:00</td>\n",
       "      <td>0.184091</td>\n",
       "      <td>0.415152</td>\n",
       "    </tr>\n",
       "    <tr>\n",
       "      <th>1</th>\n",
       "      <td>2020-11-21 14:42:11+00:00</td>\n",
       "      <td>1330159581226557442</td>\n",
       "      <td>@DiscernedEd @mmjblair @emilia_suze My dad had his flu vax a couple of wks ago, 2 days later woke during night with high temp, pounding headache and next morning had lost his sense of smell! He booked a covid test which came back negative. Coincidence? Who knows.</td>\n",
       "      <td>0.0</td>\n",
       "      <td>0.0</td>\n",
       "      <td>0.0</td>\n",
       "      <td>0.0</td>\n",
       "      <td>2020-11-21</td>\n",
       "      <td>14:42:00</td>\n",
       "      <td>-0.028000</td>\n",
       "      <td>0.188000</td>\n",
       "    </tr>\n",
       "    <tr>\n",
       "      <th>2</th>\n",
       "      <td>2020-11-21 14:42:11+00:00</td>\n",
       "      <td>1330159581121695748</td>\n",
       "      <td>Congratulations! @msm_prc @MSM_NCPC @COVID_19Network https://t.co/aOIrw2uyke</td>\n",
       "      <td>0.0</td>\n",
       "      <td>0.0</td>\n",
       "      <td>0.0</td>\n",
       "      <td>0.0</td>\n",
       "      <td>2020-11-21</td>\n",
       "      <td>14:42:00</td>\n",
       "      <td>0.000000</td>\n",
       "      <td>0.000000</td>\n",
       "    </tr>\n",
       "    <tr>\n",
       "      <th>3</th>\n",
       "      <td>2020-11-21 14:42:11+00:00</td>\n",
       "      <td>1330159581104889856</td>\n",
       "      <td>After spending a lot of time with my mom in the hospital for a week, I have scheduled an appointment for a covid test for tomorrow morning. I feel fine but I want to protect those around me just incase I am asymptomatic. I don't want to unknowingly put others at risk.</td>\n",
       "      <td>0.0</td>\n",
       "      <td>0.0</td>\n",
       "      <td>0.0</td>\n",
       "      <td>0.0</td>\n",
       "      <td>2020-11-21</td>\n",
       "      <td>14:42:00</td>\n",
       "      <td>0.416667</td>\n",
       "      <td>0.500000</td>\n",
       "    </tr>\n",
       "    <tr>\n",
       "      <th>4</th>\n",
       "      <td>2020-11-21 14:42:11+00:00</td>\n",
       "      <td>1330159580786077704</td>\n",
       "      <td>My last ex girlfriend said Covid was a ploy to get all the depressed people locked into their homes to basically kill themselves off. That shit lives rent free in my head lol.</td>\n",
       "      <td>0.0</td>\n",
       "      <td>0.0</td>\n",
       "      <td>0.0</td>\n",
       "      <td>0.0</td>\n",
       "      <td>2020-11-21</td>\n",
       "      <td>14:42:00</td>\n",
       "      <td>0.250000</td>\n",
       "      <td>0.591667</td>\n",
       "    </tr>\n",
       "  </tbody>\n",
       "</table>\n",
       "</div>"
      ],
      "text/plain": [
       "                 created_at                   id  \\\n",
       "0 2020-11-21 14:42:11+00:00  1330159581255897095   \n",
       "1 2020-11-21 14:42:11+00:00  1330159581226557442   \n",
       "2 2020-11-21 14:42:11+00:00  1330159581121695748   \n",
       "3 2020-11-21 14:42:11+00:00  1330159581104889856   \n",
       "4 2020-11-21 14:42:11+00:00  1330159580786077704   \n",
       "\n",
       "                                                                                                                                                                                                                                                                           text  \\\n",
       "0                                                                                                                                                                 Man, we were ready to play with COVID positive players.\\n\\nFixed that for ya, Trevor! https://t.co/DxgpLNroKr   \n",
       "1       @DiscernedEd @mmjblair @emilia_suze My dad had his flu vax a couple of wks ago, 2 days later woke during night with high temp, pounding headache and next morning had lost his sense of smell! He booked a covid test which came back negative. Coincidence? Who knows.   \n",
       "2                                                                                                                                                                                                  Congratulations! @msm_prc @MSM_NCPC @COVID_19Network https://t.co/aOIrw2uyke   \n",
       "3  After spending a lot of time with my mom in the hospital for a week, I have scheduled an appointment for a covid test for tomorrow morning. I feel fine but I want to protect those around me just incase I am asymptomatic. I don't want to unknowingly put others at risk.   \n",
       "4                                                                                               My last ex girlfriend said Covid was a ploy to get all the depressed people locked into their homes to basically kill themselves off. That shit lives rent free in my head lol.   \n",
       "\n",
       "   retweets  replies  likes  quotes        date      time  polarity  \\\n",
       "0       0.0      0.0    0.0     0.0  2020-11-21  14:42:00  0.184091   \n",
       "1       0.0      0.0    0.0     0.0  2020-11-21  14:42:00 -0.028000   \n",
       "2       0.0      0.0    0.0     0.0  2020-11-21  14:42:00  0.000000   \n",
       "3       0.0      0.0    0.0     0.0  2020-11-21  14:42:00  0.416667   \n",
       "4       0.0      0.0    0.0     0.0  2020-11-21  14:42:00  0.250000   \n",
       "\n",
       "   subjectivity  \n",
       "0      0.415152  \n",
       "1      0.188000  \n",
       "2      0.000000  \n",
       "3      0.500000  \n",
       "4      0.591667  "
      ]
     },
     "execution_count": 8,
     "metadata": {},
     "output_type": "execute_result"
    }
   ],
   "source": [
    "# Insert columns into dataframe\n",
    "data['polarity'] = polarity\n",
    "data['subjectivity'] = subjectivity\n",
    "data.head()"
   ]
  },
  {
   "cell_type": "code",
   "execution_count": null,
   "metadata": {},
   "outputs": [],
   "source": [
    "# ---------------------------------------------------------------------\n",
    "# Plot sentiment polarity and objectivity\n",
    "# ---------------------------------------------------------------------"
   ]
  },
  {
   "cell_type": "code",
   "execution_count": 119,
   "metadata": {},
   "outputs": [
    {
     "data": {
      "text/html": [
       "<div>\n",
       "<style scoped>\n",
       "    .dataframe tbody tr th:only-of-type {\n",
       "        vertical-align: middle;\n",
       "    }\n",
       "\n",
       "    .dataframe tbody tr th {\n",
       "        vertical-align: top;\n",
       "    }\n",
       "\n",
       "    .dataframe thead th {\n",
       "        text-align: right;\n",
       "    }\n",
       "</style>\n",
       "<table border=\"1\" class=\"dataframe\">\n",
       "  <thead>\n",
       "    <tr style=\"text-align: right;\">\n",
       "      <th></th>\n",
       "      <th>time</th>\n",
       "      <th>polarity</th>\n",
       "      <th>subjectivity</th>\n",
       "    </tr>\n",
       "  </thead>\n",
       "  <tbody>\n",
       "    <tr>\n",
       "      <th>0</th>\n",
       "      <td>00:00:00</td>\n",
       "      <td>0.075843</td>\n",
       "      <td>0.374868</td>\n",
       "    </tr>\n",
       "    <tr>\n",
       "      <th>1</th>\n",
       "      <td>00:01:00</td>\n",
       "      <td>0.048355</td>\n",
       "      <td>0.382242</td>\n",
       "    </tr>\n",
       "    <tr>\n",
       "      <th>2</th>\n",
       "      <td>00:02:00</td>\n",
       "      <td>0.056218</td>\n",
       "      <td>0.420972</td>\n",
       "    </tr>\n",
       "    <tr>\n",
       "      <th>3</th>\n",
       "      <td>00:03:00</td>\n",
       "      <td>0.048547</td>\n",
       "      <td>0.385077</td>\n",
       "    </tr>\n",
       "    <tr>\n",
       "      <th>4</th>\n",
       "      <td>00:04:00</td>\n",
       "      <td>0.032307</td>\n",
       "      <td>0.436385</td>\n",
       "    </tr>\n",
       "  </tbody>\n",
       "</table>\n",
       "</div>"
      ],
      "text/plain": [
       "       time  polarity  subjectivity\n",
       "0  00:00:00  0.075843      0.374868\n",
       "1  00:01:00  0.048355      0.382242\n",
       "2  00:02:00  0.056218      0.420972\n",
       "3  00:03:00  0.048547      0.385077\n",
       "4  00:04:00  0.032307      0.436385"
      ]
     },
     "execution_count": 119,
     "metadata": {},
     "output_type": "execute_result"
    }
   ],
   "source": [
    "## Create dataframe for plotting sentiment polarity and objectivity\n",
    "\n",
    "# Group data by time to create sentiment sentiment plot by minute\n",
    "plot_data = data.groupby('time').mean()\n",
    "plot_data = plot_data[['polarity', 'subjectivity']]\n",
    "\n",
    "# Reset index to create separate time column\n",
    "plot_data = plot_data.reset_index()\n",
    "\n",
    "# Format time column as string value\n",
    "plot_data['time'] = plot_data['time'].astype(str)\n",
    "\n",
    "# Save as CSV file\n",
    "plot_data.to_csv('sentiment_plot_data.csv', index=False)\n",
    "\n",
    "# Display ouput\n",
    "plot_data.head()"
   ]
  },
  {
   "cell_type": "code",
   "execution_count": 152,
   "metadata": {},
   "outputs": [
    {
     "data": {
      "image/png": "[encoded data removed]",
      "text/plain": [
       "<Figure size 720x360 with 1 Axes>"
      ]
     },
     "metadata": {
      "needs_background": "light"
     },
     "output_type": "display_data"
    }
   ],
   "source": [
    "# Graph polarity of sentiment trend\n",
    "\n",
    "x_axis = plot_data['time']\n",
    "y1_axis = plot_data['polarity']\n",
    "y2_axis = plot_data['subjectivity']\n",
    "\n",
    "fig, ax = plt.subplots(1, 1, figsize=(10,5))\n",
    "plt.title(\"Minute by Minute Polarity (Avg):  November 22, 2020\")\n",
    "plt.ylabel(\"Average Polarity\")\n",
    "ax.xaxis.set_major_locator(MultipleLocator(30))\n",
    "ax.plot(x_axis, y1_axis)\n",
    "plt.xticks(rotation=45)\n",
    "\n",
    "plt.show()"
   ]
  },
  {
   "cell_type": "code",
   "execution_count": 153,
   "metadata": {},
   "outputs": [
    {
     "data": {
      "image/png": "[encoded data removed]",
      "text/plain": [
       "<Figure size 720x360 with 1 Axes>"
      ]
     },
     "metadata": {
      "needs_background": "light"
     },
     "output_type": "display_data"
    }
   ],
   "source": [
    "# Graph subjectivity of sentiment trend\n",
    "\n",
    "x_axis = plot_data['time']\n",
    "y1_axis = plot_data['polarity']\n",
    "y2_axis = plot_data['subjectivity']\n",
    "\n",
    "fig, ax = plt.subplots(1, 1, figsize=(10,5))\n",
    "plt.title(\"Minute by Minute Subjectivity (Avg):  November 22, 2020\")\n",
    "plt.ylabel(\"Average Subjectivity\")\n",
    "ax.xaxis.set_major_locator(MultipleLocator(30))\n",
    "ax.plot(x_axis, y2_axis)\n",
    "plt.xticks(rotation=45)\n",
    "\n",
    "plt.show()"
   ]
  },
  {
   "cell_type": "code",
   "execution_count": null,
   "metadata": {},
   "outputs": [],
   "source": [
    "# ---------------------------------------------------------------------\n",
    "# Plot tweet and retweet count\n",
    "# ---------------------------------------------------------------------"
   ]
  },
  {
   "cell_type": "code",
   "execution_count": 147,
   "metadata": {},
   "outputs": [
    {
     "data": {
      "text/html": [
       "<div>\n",
       "<style scoped>\n",
       "    .dataframe tbody tr th:only-of-type {\n",
       "        vertical-align: middle;\n",
       "    }\n",
       "\n",
       "    .dataframe tbody tr th {\n",
       "        vertical-align: top;\n",
       "    }\n",
       "\n",
       "    .dataframe thead th {\n",
       "        text-align: right;\n",
       "    }\n",
       "</style>\n",
       "<table border=\"1\" class=\"dataframe\">\n",
       "  <thead>\n",
       "    <tr style=\"text-align: right;\">\n",
       "      <th></th>\n",
       "      <th>time</th>\n",
       "      <th>id</th>\n",
       "      <th>retweets</th>\n",
       "    </tr>\n",
       "  </thead>\n",
       "  <tbody>\n",
       "    <tr>\n",
       "      <th>0</th>\n",
       "      <td>00:00:00</td>\n",
       "      <td>286</td>\n",
       "      <td>17.0</td>\n",
       "    </tr>\n",
       "    <tr>\n",
       "      <th>1</th>\n",
       "      <td>00:01:00</td>\n",
       "      <td>297</td>\n",
       "      <td>3.0</td>\n",
       "    </tr>\n",
       "    <tr>\n",
       "      <th>2</th>\n",
       "      <td>00:02:00</td>\n",
       "      <td>302</td>\n",
       "      <td>4.0</td>\n",
       "    </tr>\n",
       "    <tr>\n",
       "      <th>3</th>\n",
       "      <td>00:03:00</td>\n",
       "      <td>298</td>\n",
       "      <td>6.0</td>\n",
       "    </tr>\n",
       "    <tr>\n",
       "      <th>4</th>\n",
       "      <td>00:04:00</td>\n",
       "      <td>284</td>\n",
       "      <td>3.0</td>\n",
       "    </tr>\n",
       "  </tbody>\n",
       "</table>\n",
       "</div>"
      ],
      "text/plain": [
       "       time   id  retweets\n",
       "0  00:00:00  286      17.0\n",
       "1  00:01:00  297       3.0\n",
       "2  00:02:00  302       4.0\n",
       "3  00:03:00  298       6.0\n",
       "4  00:04:00  284       3.0"
      ]
     },
     "execution_count": 147,
     "metadata": {},
     "output_type": "execute_result"
    }
   ],
   "source": [
    "# Group data by time, count tweest and sum retweets\n",
    "tweets = data[['time', 'id']].groupby('time').count()\n",
    "retweets = data[['time', 'retweets']].groupby('time').sum()\n",
    "\n",
    "# Concatenate datafreams\n",
    "plot_data1 = tweets.join(retweets)\n",
    "\n",
    "# Reset index to create separate time column\n",
    "plot_data1 = plot_data1.reset_index()\n",
    "\n",
    "# Format time column as string value\n",
    "plot_data1['time'] = plot_data1['time'].astype(str)\n",
    "\n",
    "# Display ouput\n",
    "plot_data1.head()"
   ]
  },
  {
   "cell_type": "code",
   "execution_count": 154,
   "metadata": {},
   "outputs": [
    {
     "data": {
      "image/png": "[encoded data removed]",
      "text/plain": [
       "<Figure size 720x360 with 1 Axes>"
      ]
     },
     "metadata": {
      "needs_background": "light"
     },
     "output_type": "display_data"
    }
   ],
   "source": [
    "# Graph tweet and retweet count by minute\n",
    "\n",
    "x_axis = plot_data1['time']\n",
    "y1_axis = plot_data1['id']\n",
    "y2_axis = plot_data1['retweets']\n",
    "\n",
    "fig, ax = plt.subplots(1, 1, figsize=(10,5))\n",
    "plt.title(\"Tweets and Retweets:  November 22, 2020\")\n",
    "plt.ylabel(\"Retweets                                                            Tweets\")\n",
    "ax.plot(x_axis, y1_axis, y2_axis)\n",
    "ax.xaxis.set_major_locator(MultipleLocator(30))\n",
    "plt.xticks(rotation=45)\n",
    "\n",
    "plt.show()"
   ]
  },
  {
   "cell_type": "code",
   "execution_count": null,
   "metadata": {},
   "outputs": [],
   "source": [
    "# ---------------------------------------------------------------------\n",
    "# Identify most retweeted tweets\n",
    "# ---------------------------------------------------------------------"
   ]
  },
  {
   "cell_type": "code",
   "execution_count": 149,
   "metadata": {},
   "outputs": [
    {
     "data": {
      "text/html": [
       "<div>\n",
       "<style scoped>\n",
       "    .dataframe tbody tr th:only-of-type {\n",
       "        vertical-align: middle;\n",
       "    }\n",
       "\n",
       "    .dataframe tbody tr th {\n",
       "        vertical-align: top;\n",
       "    }\n",
       "\n",
       "    .dataframe thead th {\n",
       "        text-align: right;\n",
       "    }\n",
       "</style>\n",
       "<table border=\"1\" class=\"dataframe\">\n",
       "  <thead>\n",
       "    <tr style=\"text-align: right;\">\n",
       "      <th></th>\n",
       "      <th>created_at</th>\n",
       "      <th>id</th>\n",
       "      <th>text</th>\n",
       "      <th>retweets</th>\n",
       "      <th>replies</th>\n",
       "      <th>likes</th>\n",
       "      <th>quotes</th>\n",
       "      <th>date</th>\n",
       "      <th>time</th>\n",
       "      <th>polarity</th>\n",
       "      <th>subjectivity</th>\n",
       "    </tr>\n",
       "  </thead>\n",
       "  <tbody>\n",
       "    <tr>\n",
       "      <th>104945</th>\n",
       "      <td>2020-11-21 20:38:27+00:00</td>\n",
       "      <td>1330249235166588932</td>\n",
       "      <td>I’m sitting here thinking how incredible it is we have not one but two Covid vaccines literally around the corner. President Trump eliminated endless red tape and withstood severe criticism to find a solution in record time. It is extremely impressive!</td>\n",
       "      <td>49.0</td>\n",
       "      <td>1.0</td>\n",
       "      <td>171.0</td>\n",
       "      <td>1.0</td>\n",
       "      <td>2020-11-21</td>\n",
       "      <td>20:38:00</td>\n",
       "      <td>0.443750</td>\n",
       "      <td>0.662500</td>\n",
       "    </tr>\n",
       "    <tr>\n",
       "      <th>4582</th>\n",
       "      <td>2020-11-21 14:57:14+00:00</td>\n",
       "      <td>1330163367055683586</td>\n",
       "      <td>Absolutely devastating. My heart aches for Raiden and every single person left behind in the wake of COVID-19. Please stay safe this weekend.\\nhttps://t.co/MB80XzoCaw</td>\n",
       "      <td>24.0</td>\n",
       "      <td>5.0</td>\n",
       "      <td>139.0</td>\n",
       "      <td>0.0</td>\n",
       "      <td>2020-11-21</td>\n",
       "      <td>14:57:00</td>\n",
       "      <td>-0.194286</td>\n",
       "      <td>0.482857</td>\n",
       "    </tr>\n",
       "    <tr>\n",
       "      <th>127684</th>\n",
       "      <td>2020-11-21 21:55:18+00:00</td>\n",
       "      <td>1330268578399088641</td>\n",
       "      <td>Yesterday there were 0 new cases and 0 lost lives reported. There is 1 active case remaining. We received 10,530 test results – thanks Victoria, #EveryTestHelps. More: https://t.co/pcll7ySEgz \\n\\n#StaySafeStayOpen #COVID19Vic https://t.co/yijW3KLf3E</td>\n",
       "      <td>22.0</td>\n",
       "      <td>2.0</td>\n",
       "      <td>139.0</td>\n",
       "      <td>5.0</td>\n",
       "      <td>2020-11-21</td>\n",
       "      <td>21:55:00</td>\n",
       "      <td>0.175758</td>\n",
       "      <td>0.438636</td>\n",
       "    </tr>\n",
       "    <tr>\n",
       "      <th>114565</th>\n",
       "      <td>2020-11-21 21:10:53+00:00</td>\n",
       "      <td>1330257398146232333</td>\n",
       "      <td>Raiders will activate seven of the 10 players off their COVID-19 list today, per @PGutierrezESPN.\\n\\nhttps://t.co/ur47aTgoiQ</td>\n",
       "      <td>20.0</td>\n",
       "      <td>3.0</td>\n",
       "      <td>64.0</td>\n",
       "      <td>0.0</td>\n",
       "      <td>2020-11-21</td>\n",
       "      <td>21:11:00</td>\n",
       "      <td>0.000000</td>\n",
       "      <td>0.000000</td>\n",
       "    </tr>\n",
       "    <tr>\n",
       "      <th>138073</th>\n",
       "      <td>2020-11-21 22:30:41+00:00</td>\n",
       "      <td>1330277482487042050</td>\n",
       "      <td>\"Get Out! - Go Get a Warrant!\" - Business Owners in Buffalo, New York Stand Up to Cuomo's Covid Orders, Kick Out Sheriff and \"Health Inspector\" (VIDEO) @CristinaLaila1  via @gatewaypundit https://t.co/oK3uSNQsz5</td>\n",
       "      <td>15.0</td>\n",
       "      <td>1.0</td>\n",
       "      <td>38.0</td>\n",
       "      <td>0.0</td>\n",
       "      <td>2020-11-21</td>\n",
       "      <td>22:31:00</td>\n",
       "      <td>0.136364</td>\n",
       "      <td>0.454545</td>\n",
       "    </tr>\n",
       "  </tbody>\n",
       "</table>\n",
       "</div>"
      ],
      "text/plain": [
       "                      created_at                   id  \\\n",
       "104945 2020-11-21 20:38:27+00:00  1330249235166588932   \n",
       "4582   2020-11-21 14:57:14+00:00  1330163367055683586   \n",
       "127684 2020-11-21 21:55:18+00:00  1330268578399088641   \n",
       "114565 2020-11-21 21:10:53+00:00  1330257398146232333   \n",
       "138073 2020-11-21 22:30:41+00:00  1330277482487042050   \n",
       "\n",
       "                                                                                                                                                                                                                                                                text  \\\n",
       "104945  I’m sitting here thinking how incredible it is we have not one but two Covid vaccines literally around the corner. President Trump eliminated endless red tape and withstood severe criticism to find a solution in record time. It is extremely impressive!   \n",
       "4582                                                                                          Absolutely devastating. My heart aches for Raiden and every single person left behind in the wake of COVID-19. Please stay safe this weekend.\\nhttps://t.co/MB80XzoCaw   \n",
       "127684     Yesterday there were 0 new cases and 0 lost lives reported. There is 1 active case remaining. We received 10,530 test results – thanks Victoria, #EveryTestHelps. More: https://t.co/pcll7ySEgz \\n\\n#StaySafeStayOpen #COVID19Vic https://t.co/yijW3KLf3E   \n",
       "114565                                                                                                                                  Raiders will activate seven of the 10 players off their COVID-19 list today, per @PGutierrezESPN.\\n\\nhttps://t.co/ur47aTgoiQ   \n",
       "138073                                           \"Get Out! - Go Get a Warrant!\" - Business Owners in Buffalo, New York Stand Up to Cuomo's Covid Orders, Kick Out Sheriff and \"Health Inspector\" (VIDEO) @CristinaLaila1  via @gatewaypundit https://t.co/oK3uSNQsz5   \n",
       "\n",
       "        retweets  replies  likes  quotes        date      time  polarity  \\\n",
       "104945      49.0      1.0  171.0     1.0  2020-11-21  20:38:00  0.443750   \n",
       "4582        24.0      5.0  139.0     0.0  2020-11-21  14:57:00 -0.194286   \n",
       "127684      22.0      2.0  139.0     5.0  2020-11-21  21:55:00  0.175758   \n",
       "114565      20.0      3.0   64.0     0.0  2020-11-21  21:11:00  0.000000   \n",
       "138073      15.0      1.0   38.0     0.0  2020-11-21  22:31:00  0.136364   \n",
       "\n",
       "        subjectivity  \n",
       "104945      0.662500  \n",
       "4582        0.482857  \n",
       "127684      0.438636  \n",
       "114565      0.000000  \n",
       "138073      0.454545  "
      ]
     },
     "execution_count": 149,
     "metadata": {},
     "output_type": "execute_result"
    }
   ],
   "source": [
    "# Sort data by # retweets\n",
    "max_retweets = data.sort_values(by='retweets', ascending=False)\n",
    "max_retweets.head(5)\n"
   ]
  },
  {
   "cell_type": "code",
   "execution_count": 155,
   "metadata": {},
   "outputs": [
    {
     "data": {
      "image/png": "[encoded data removed]",
      "text/plain": [
       "<Figure size 720x360 with 1 Axes>"
      ]
     },
     "metadata": {
      "needs_background": "light"
     },
     "output_type": "display_data"
    }
   ],
   "source": [
    "# Plot scatter of retweets and plority to see if any\n",
    "\n",
    "x_axis = max_retweets['retweets']\n",
    "y_axis = max_retweets['polarity']\n",
    "\n",
    "fig, ax = plt.subplots(1, 1, figsize=(10,5))\n",
    "plt.title(\"Polarity vs. Retweets\")\n",
    "plt.xlabel(\"Retweets\")\n",
    "plt.ylabel(\"Polarity\")\n",
    "plt.scatter(x_axis, y_axis, facecolors=\"blue\")\n",
    "plt.show()"
   ]
  },
  {
   "cell_type": "code",
   "execution_count": null,
   "metadata": {},
   "outputs": [],
   "source": [
    "# ---------------------------------------------------------------------\n",
    "# Create mask, distance, lockdown, and vaccine dataframes and csv files\n",
    "# ---------------------------------------------------------------------"
   ]
  },
  {
   "cell_type": "code",
   "execution_count": 246,
   "metadata": {},
   "outputs": [
    {
     "name": "stdout",
     "output_type": "stream",
     "text": [
      "<class 'pandas.core.frame.DataFrame'>\n",
      "Int64Index: 9355 entries, 7 to 200356\n",
      "Data columns (total 12 columns):\n",
      " #   Column        Non-Null Count  Dtype              \n",
      "---  ------        --------------  -----              \n",
      " 0   created_at    9355 non-null   datetime64[ns, UTC]\n",
      " 1   id            9355 non-null   int64              \n",
      " 2   text          9355 non-null   object             \n",
      " 3   retweets      9355 non-null   float64            \n",
      " 4   replies       9355 non-null   float64            \n",
      " 5   likes         9355 non-null   float64            \n",
      " 6   quotes        9355 non-null   float64            \n",
      " 7   date          9355 non-null   object             \n",
      " 8   time          9355 non-null   object             \n",
      " 9   minutes       9355 non-null   int64              \n",
      " 10  polarity      9355 non-null   float64            \n",
      " 11  subjectivity  9355 non-null   float64            \n",
      "dtypes: datetime64[ns, UTC](1), float64(6), int64(2), object(3)\n",
      "memory usage: 950.1+ KB\n"
     ]
    }
   ],
   "source": [
    "# Filter by mask\n",
    "mask_df = data[data['text'].str.contains('mask|face covering')]\n",
    "mask_df.info()"
   ]
  },
  {
   "cell_type": "code",
   "execution_count": 249,
   "metadata": {},
   "outputs": [
    {
     "name": "stdout",
     "output_type": "stream",
     "text": [
      "<class 'pandas.core.frame.DataFrame'>\n",
      "Int64Index: 7908 entries, 21 to 200277\n",
      "Data columns (total 12 columns):\n",
      " #   Column        Non-Null Count  Dtype              \n",
      "---  ------        --------------  -----              \n",
      " 0   created_at    7908 non-null   datetime64[ns, UTC]\n",
      " 1   id            7908 non-null   int64              \n",
      " 2   text          7908 non-null   object             \n",
      " 3   retweets      7908 non-null   float64            \n",
      " 4   replies       7908 non-null   float64            \n",
      " 5   likes         7908 non-null   float64            \n",
      " 6   quotes        7908 non-null   float64            \n",
      " 7   date          7908 non-null   object             \n",
      " 8   time          7908 non-null   object             \n",
      " 9   minutes       7908 non-null   int64              \n",
      " 10  polarity      7908 non-null   float64            \n",
      " 11  subjectivity  7908 non-null   float64            \n",
      "dtypes: datetime64[ns, UTC](1), float64(6), int64(2), object(3)\n",
      "memory usage: 803.2+ KB\n"
     ]
    }
   ],
   "source": [
    "# Filter by vaccine\n",
    "vaccine_df = data[data['text'].str.contains('vaccine')]\n",
    "vaccine_df.info()"
   ]
  },
  {
   "cell_type": "code",
   "execution_count": 250,
   "metadata": {},
   "outputs": [
    {
     "name": "stdout",
     "output_type": "stream",
     "text": [
      "<class 'pandas.core.frame.DataFrame'>\n",
      "Int64Index: 5706 entries, 7 to 200370\n",
      "Data columns (total 12 columns):\n",
      " #   Column        Non-Null Count  Dtype              \n",
      "---  ------        --------------  -----              \n",
      " 0   created_at    5706 non-null   datetime64[ns, UTC]\n",
      " 1   id            5706 non-null   int64              \n",
      " 2   text          5706 non-null   object             \n",
      " 3   retweets      5706 non-null   float64            \n",
      " 4   replies       5706 non-null   float64            \n",
      " 5   likes         5706 non-null   float64            \n",
      " 6   quotes        5706 non-null   float64            \n",
      " 7   date          5706 non-null   object             \n",
      " 8   time          5706 non-null   object             \n",
      " 9   minutes       5706 non-null   int64              \n",
      " 10  polarity      5706 non-null   float64            \n",
      " 11  subjectivity  5706 non-null   float64            \n",
      "dtypes: datetime64[ns, UTC](1), float64(6), int64(2), object(3)\n",
      "memory usage: 579.5+ KB\n"
     ]
    }
   ],
   "source": [
    "# Filter by lockdown\n",
    "lockdown_df = data[data['text'].str.contains('lockdown|quarantine|stay at home')]\n",
    "lockdown_df.info()"
   ]
  },
  {
   "cell_type": "code",
   "execution_count": 251,
   "metadata": {},
   "outputs": [
    {
     "name": "stdout",
     "output_type": "stream",
     "text": [
      "<class 'pandas.core.frame.DataFrame'>\n",
      "Int64Index: 914 entries, 22 to 198814\n",
      "Data columns (total 12 columns):\n",
      " #   Column        Non-Null Count  Dtype              \n",
      "---  ------        --------------  -----              \n",
      " 0   created_at    914 non-null    datetime64[ns, UTC]\n",
      " 1   id            914 non-null    int64              \n",
      " 2   text          914 non-null    object             \n",
      " 3   retweets      914 non-null    float64            \n",
      " 4   replies       914 non-null    float64            \n",
      " 5   likes         914 non-null    float64            \n",
      " 6   quotes        914 non-null    float64            \n",
      " 7   date          914 non-null    object             \n",
      " 8   time          914 non-null    object             \n",
      " 9   minutes       914 non-null    int64              \n",
      " 10  polarity      914 non-null    float64            \n",
      " 11  subjectivity  914 non-null    float64            \n",
      "dtypes: datetime64[ns, UTC](1), float64(6), int64(2), object(3)\n",
      "memory usage: 92.8+ KB\n"
     ]
    }
   ],
   "source": [
    "# Filter by social distancing\n",
    "distance_df = data[data['text'].str.contains('social distance|social distancing')]\n",
    "distance_df.info()"
   ]
  },
  {
   "cell_type": "code",
   "execution_count": 252,
   "metadata": {},
   "outputs": [],
   "source": [
    "# Push dataframes to CSV\n",
    "\n",
    "mask_df.to_csv('mask_data.csv', index=False)\n",
    "vaccine_df.to_csv('vaccine_data.csv', index=False)\n",
    "lockdown_df.to_csv('lockdown_data.csv', index=False)\n",
    "distance_df.to_csv('distance_data.csv', index=False)"
   ]
  },
  {
   "cell_type": "code",
   "execution_count": null,
   "metadata": {},
   "outputs": [],
   "source": []
  },
  {
   "cell_type": "code",
   "execution_count": null,
   "metadata": {},
   "outputs": [],
   "source": []
  },
  {
   "cell_type": "code",
   "execution_count": null,
   "metadata": {},
   "outputs": [],
   "source": []
  },
  {
   "cell_type": "code",
   "execution_count": null,
   "metadata": {},
   "outputs": [],
   "source": []
  }
 ],
 "metadata": {
  "kernelspec": {
   "display_name": "Python 3",
   "language": "python",
   "name": "python3"
  },
  "language_info": {
   "codemirror_mode": {
    "name": "ipython",
    "version": 3
   },
   "file_extension": ".py",
   "mimetype": "text/x-python",
   "name": "python",
   "nbconvert_exporter": "python",
   "pygments_lexer": "ipython3",
   "version": "3.7.6"
  }
 },
 "nbformat": 4,
 "nbformat_minor": 4
}
