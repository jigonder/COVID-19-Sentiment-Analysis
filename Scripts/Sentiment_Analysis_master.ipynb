{
 "cells": [
  {
   "cell_type": "code",
   "execution_count": 1,
   "metadata": {},
   "outputs": [],
   "source": [
    "# Dependencies\n",
    "import pandas as pd\n",
    "import nltk\n",
    "import re\n",
    "import datetime as dt\n",
    "import ipynb\n",
    "from nltk.corpus import stopwords\n",
    "from textblob import TextBlob\n",
    "from matplotlib import pyplot as plt\n",
    "from vaderSentiment.vaderSentiment import SentimentIntensityAnalyzer\n",
    "# If needed, download stopwords corpus from NLTK library\n",
    "# nltk.download('stopwords')"
   ]
  },
  {
   "cell_type": "code",
   "execution_count": 3,
   "metadata": {
    "scrolled": true
   },
   "outputs": [
    {
     "name": "stderr",
     "output_type": "stream",
     "text": [
      "C:\\Users\\flurp\\anaconda3\\lib\\site-packages\\ipykernel_launcher.py:1: FutureWarning: Passing a negative integer is deprecated in version 1.0 and will not be supported in future version. Instead, use None to not limit the column width.\n",
      "  \"\"\"Entry point for launching an IPython kernel.\n"
     ]
    }
   ],
   "source": [
    "pd.set_option(\"display.max_colwidth\", -1)"
   ]
  },
  {
   "cell_type": "markdown",
   "metadata": {},
   "source": [
    "## Basic dataframe cleaning"
   ]
  },
  {
   "cell_type": "code",
   "execution_count": 4,
   "metadata": {},
   "outputs": [],
   "source": [
    "# Read in geo tagged tweets and corresponding dates\n",
    "tweets_df = pd.read_csv(\"../Raw_Data/geo_sentiment.csv\")"
   ]
  },
  {
   "cell_type": "code",
   "execution_count": 6,
   "metadata": {},
   "outputs": [],
   "source": [
    "# Drop Unnamed column\n",
    "tweets_df = tweets_df.drop(labels=\"Unnamed: 0\", axis=1)"
   ]
  },
  {
   "cell_type": "code",
   "execution_count": 7,
   "metadata": {},
   "outputs": [],
   "source": [
    "# Convert \"created_at\" column from dtype object to dtype datetime\n",
    "tweets_df[\"created_at\"] = pd.to_datetime(tweets_df[\"created_at\"])"
   ]
  },
  {
   "cell_type": "code",
   "execution_count": 8,
   "metadata": {},
   "outputs": [],
   "source": [
    "# Rename date column\n",
    "tweets_df = tweets_df.rename({\"created_at\": \"tweet_date\"}, axis=1)"
   ]
  },
  {
   "cell_type": "code",
   "execution_count": 9,
   "metadata": {
    "scrolled": true
   },
   "outputs": [
    {
     "data": {
      "text/plain": [
       "id                           int64\n",
       "coordinates                 object\n",
       "tweet_date     datetime64[ns, UTC]\n",
       "text                        object\n",
       "dtype: object"
      ]
     },
     "execution_count": 9,
     "metadata": {},
     "output_type": "execute_result"
    }
   ],
   "source": [
    "# Validate dtypes\n",
    "tweets_df.dtypes"
   ]
  },
  {
   "cell_type": "markdown",
   "metadata": {},
   "source": [
    "## Create tweet counts by date and plot"
   ]
  },
  {
   "cell_type": "code",
   "execution_count": 13,
   "metadata": {},
   "outputs": [],
   "source": [
    "# Create dataframe of counts of tweets per day\n",
    "tweet_count_df = tweets_df.set_index('tweet_date').groupby(pd.Grouper(freq=\"D\")).count()\n",
    "# Drop coordinate column\n",
    "tweet_count_df = tweet_count_df.drop(labels=[\"coordinates\", \"id\"], axis=1)\n",
    "# Rename text column\n",
    "tweet_count_df = tweet_count_df.rename({\"text\": \"tweet count\"}, axis=1)"
   ]
  },
  {
   "cell_type": "code",
   "execution_count": 14,
   "metadata": {},
   "outputs": [
    {
     "data": {
      "text/html": [
       "<div>\n",
       "<style scoped>\n",
       "    .dataframe tbody tr th:only-of-type {\n",
       "        vertical-align: middle;\n",
       "    }\n",
       "\n",
       "    .dataframe tbody tr th {\n",
       "        vertical-align: top;\n",
       "    }\n",
       "\n",
       "    .dataframe thead th {\n",
       "        text-align: right;\n",
       "    }\n",
       "</style>\n",
       "<table border=\"1\" class=\"dataframe\">\n",
       "  <thead>\n",
       "    <tr style=\"text-align: right;\">\n",
       "      <th></th>\n",
       "      <th>tweet count</th>\n",
       "    </tr>\n",
       "    <tr>\n",
       "      <th>tweet_date</th>\n",
       "      <th></th>\n",
       "    </tr>\n",
       "  </thead>\n",
       "  <tbody>\n",
       "    <tr>\n",
       "      <th>2020-11-19 00:00:00+00:00</th>\n",
       "      <td>100</td>\n",
       "    </tr>\n",
       "    <tr>\n",
       "      <th>2020-03-19 00:00:00+00:00</th>\n",
       "      <td>174</td>\n",
       "    </tr>\n",
       "    <tr>\n",
       "      <th>2020-03-29 00:00:00+00:00</th>\n",
       "      <td>222</td>\n",
       "    </tr>\n",
       "    <tr>\n",
       "      <th>2020-04-14 00:00:00+00:00</th>\n",
       "      <td>310</td>\n",
       "    </tr>\n",
       "    <tr>\n",
       "      <th>2020-10-03 00:00:00+00:00</th>\n",
       "      <td>312</td>\n",
       "    </tr>\n",
       "  </tbody>\n",
       "</table>\n",
       "</div>"
      ],
      "text/plain": [
       "                           tweet count\n",
       "tweet_date                            \n",
       "2020-11-19 00:00:00+00:00          100\n",
       "2020-03-19 00:00:00+00:00          174\n",
       "2020-03-29 00:00:00+00:00          222\n",
       "2020-04-14 00:00:00+00:00          310\n",
       "2020-10-03 00:00:00+00:00          312"
      ]
     },
     "execution_count": 14,
     "metadata": {},
     "output_type": "execute_result"
    }
   ],
   "source": [
    "# Find true min number of tweets (disregard first and last days of data collection)\n",
    "# We can see from the below output that the lowest number of tweets (222) occured on March 29\n",
    "tweet_count_df.sort_values(by=\"tweet count\").head()"
   ]
  },
  {
   "cell_type": "code",
   "execution_count": 15,
   "metadata": {},
   "outputs": [
    {
     "data": {
      "image/png": "[encoded data removed]",
      "text/plain": [
       "<Figure size 1440x720 with 1 Axes>"
      ]
     },
     "metadata": {
      "needs_background": "light"
     },
     "output_type": "display_data"
    }
   ],
   "source": [
    "fig, ax = plt.subplots(figsize=(20,10))\n",
    "ax= plt.bar(tweet_count_df.index, tweet_count_df[\"tweet count\"])\n",
    "plt.axhline(y=1750, color=\"grey\")\n",
    "plt.axhline(y=1250, color=\"grey\")\n",
    "plt.axhline(y=750, color=\"grey\")\n",
    "plt.axhline(y=250, color=\"grey\")\n",
    "line1 = plt.axhline(y=tweet_count_df[\"tweet count\"].mean(), color=\"red\", linestyle=\"--\", linewidth=5)\n",
    "line2 = plt.axhline(y=tweet_count_df[\"tweet count\"].max(), color=\"green\", linestyle=\"--\", linewidth=5)\n",
    "line3 = plt.axhline(y=222, color=\"blue\", linestyle=\"--\", linewidth=5)\n",
    "plt.xlabel(\"Date of Tweet\", fontsize=\"xx-large\", fontweight=\"black\")\n",
    "plt.ylabel(\"Number of Tweets\", fontsize=\"xx-large\", fontweight=\"black\")\n",
    "plt.xticks(ticks=[737516., 737546., 737577., 737607., 737638., 737669., 737699.,\n",
    "                  737730., 737760.], \n",
    "           labels=[\"April\", \"May\", \"June\", \"July\", \"August\", \"September\",\n",
    "                   \"October\", \"November\", \"December\"],fontsize=\"large\", rotation=45,\n",
    "           fontweight=\"bold\")\n",
    "plt.legend((line1,line3,line2), (\"Mean = 1027\", \"Min = 222\", \"Max = 1830\"), shadow=True,\n",
    "          labelspacing=2, loc=\"upper left\", borderpad=1, fontsize=\"xx-large\")\n",
    "plt.savefig(\"../Images/Tweet_count_per_day.png\")\n",
    "plt.show()"
   ]
  },
  {
   "cell_type": "markdown",
   "metadata": {},
   "source": [
    "# Sentiment Analysis"
   ]
  },
  {
   "cell_type": "markdown",
   "metadata": {},
   "source": [
    "## Step 1: Preprocessing"
   ]
  },
  {
   "cell_type": "code",
   "execution_count": null,
   "metadata": {},
   "outputs": [],
   "source": [
    "# NOTE: I have decided to NOT lemmatize verbs, as it is impacting the accuracy of the sentiment score (further research\n",
    "# required to improve preprocess function to include lemmatization of verbs)"
   ]
  },
  {
   "cell_type": "code",
   "execution_count": 16,
   "metadata": {},
   "outputs": [],
   "source": [
    "# Convert text column to a list\n",
    "tweet_list = list(tweets_df[\"text\"])"
   ]
  },
  {
   "cell_type": "code",
   "execution_count": 17,
   "metadata": {},
   "outputs": [
    {
     "data": {
      "text/plain": [
       "252718"
      ]
     },
     "execution_count": 17,
     "metadata": {},
     "output_type": "execute_result"
    }
   ],
   "source": [
    "# Confirm all tweets are included\n",
    "len(tweet_list)"
   ]
  },
  {
   "cell_type": "code",
   "execution_count": 21,
   "metadata": {},
   "outputs": [],
   "source": [
    "# Define dictionaries\n",
    "\n",
    "# Regex patterns\n",
    "url_pattern = r\"((http://)[^ ]*|(https://)[^ ]*|(www\\.)[^ ]*)\"\n",
    "user_pattern = r\"@[^\\s]+\"\n",
    "\n",
    "#POS tags for lemmatization\n",
    "tag_dict = {\"J\": 'a', \n",
    "            \"N\": 'n', \n",
    "            \"V\": 'v', \n",
    "            \"R\": 'r'}\n",
    "\n",
    "# Stop words list (from NLTK corpus)\n",
    "stopwords_list = stopwords.words(\"english\")\n",
    "\n",
    "# Thanks to this code: https://gist.github.com/slowkow/7a7f61f495e3dbb7e3d767f97bd7304b\n",
    "# Define regex pattern to look for (unicode representation for all emojis)\n",
    "emoji_pattern = re.compile(\"[\"\n",
    "                           u\"\\U0001F600-\\U0001F64F\"  # emoticons\n",
    "                           u\"\\U0001F300-\\U0001F5FF\"  # symbols & pictographs\n",
    "                           u\"\\U0001F680-\\U0001F6FF\"  # transport & map symbols\n",
    "                           u\"\\U0001F1E0-\\U0001F1FF\"  # flags (iOS)\n",
    "                           u\"\\U00002702-\\U000027B0\"\n",
    "                           u\"\\U000024C2-\\U0001F251\"\n",
    "                           \"]+\", flags=re.UNICODE)"
   ]
  },
  {
   "cell_type": "markdown",
   "metadata": {},
   "source": [
    "### Define a function that will convert all emojis to words"
   ]
  },
  {
   "cell_type": "code",
   "execution_count": 22,
   "metadata": {},
   "outputs": [],
   "source": [
    "# Thanks to this dictionary created by NeelShah: https://github.com/NeelShah18/emot/blob/master/emot/emo_unicode.py\n",
    "# Import unicode emoji to words dictionary\n",
    "from ipynb.fs.full.Unicode_emojis import UNICODE_EMO\n",
    "\n",
    "# Begin function\n",
    "def convert_emojis(text):\n",
    "    \n",
    "    # Find all emojis\n",
    "    emotes = re.findall(emoji_pattern, text)\n",
    "    \n",
    "    # Loop through emojis and sub the emoji with literal words using UNICODE_EMO dictionary \n",
    "    for emote in emotes:\n",
    "        try:\n",
    "            text = re.sub(emote, UNICODE_EMO[emote].replace(\":\",\" \").replace(\"_\",\" \"), text)\n",
    "        except KeyError:\n",
    "            continue \n",
    "    \n",
    "    return text"
   ]
  },
  {
   "cell_type": "markdown",
   "metadata": {},
   "source": [
    "### Preprocess function"
   ]
  },
  {
   "cell_type": "code",
   "execution_count": 25,
   "metadata": {},
   "outputs": [],
   "source": [
    "def preprocess(data):\n",
    "    preprocessed_tweets = []\n",
    "    # Loop through all tweets\n",
    "    for tweet in data:\n",
    "        \n",
    "        # Replace emojis with words (convert_emojis function defined above)\n",
    "        tweet = convert_emojis(tweet)\n",
    "        \n",
    "        # Remove all urls and usernames\n",
    "        tweet = re.sub(url_pattern, \"\", tweet)\n",
    "        tweet = re.sub(user_pattern, \"\", tweet)\n",
    "        \n",
    "        # Remove all stopwords \n",
    "        no_stop_tweet = \"\"\n",
    "        for word in tweet.split():\n",
    "            if word not in stopwords_list:\n",
    "                no_stop_tweet += (word+\" \")\n",
    "        \n",
    "        # Create textblob object \n",
    "        blob = TextBlob(no_stop_tweet)\n",
    "        \n",
    "        # Lemmatize the words in the blob\n",
    "        # See https://textblob.readthedocs.io/en/dev/quickstart.html#words-inflection-and-lemmatization\n",
    "        \n",
    "        # Use only the first letter of the obtained tag (tag[0]) to pass into lemmatize() func\n",
    "        words_and_tags = [(w, tag_dict.get(tag[0], \"n\")) for w, tag in blob.tags]\n",
    "        # Lemmatize according to appropriate POS tag\n",
    "        # Here we only lemmatize non verbs \n",
    "        lemmatized_words_list = [wd.lemmatize(pos) if pos in \n",
    "                                 (\"a\", \"n\", \"r\") else wd for wd, pos in words_and_tags]\n",
    "        \n",
    "        # join back into a string \n",
    "        preprocessed_tweet = \" \".join(lemmatized_words_list)\n",
    "        # Append to list\n",
    "        preprocessed_tweets.append(preprocessed_tweet)\n",
    "        \n",
    "    return preprocessed_tweets\n",
    "        "
   ]
  },
  {
   "cell_type": "code",
   "execution_count": 26,
   "metadata": {},
   "outputs": [
    {
     "name": "stdout",
     "output_type": "stream",
     "text": [
      "Processing done. Time to complete: 1034.6366140842438 seconds\n"
     ]
    }
   ],
   "source": [
    "import time\n",
    "t = time.time()\n",
    "data = preprocess(tweet_list)\n",
    "print(f\"Processing done. Time to complete: {(time.time() - t)} seconds\")"
   ]
  },
  {
   "cell_type": "markdown",
   "metadata": {},
   "source": [
    "### Sentiment analysis \n",
    "#### Method 1: TextBlob's analyzer - see Docs: https://textblob.readthedocs.io/en/dev/quickstart.html#sentiment-analysis\n",
    "#### Method 2: vaderSentiment analyzer - see Docs: https://github.com/cjhutto/vaderSentiment"
   ]
  },
  {
   "cell_type": "code",
   "execution_count": 27,
   "metadata": {
    "scrolled": true
   },
   "outputs": [],
   "source": [
    "vs = SentimentIntensityAnalyzer()\n",
    "\n",
    "tweets = []\n",
    "polarity_list = []\n",
    "subjectivity_list = []\n",
    "vader_sentiment_scores = []\n",
    "\n",
    "for tweet in data:\n",
    "    # Create textblob object\n",
    "    blob = TextBlob(tweet)\n",
    "    # TextBlob analyzer\n",
    "    sentiment = blob.sentiment\n",
    "    polarity = sentiment[0]\n",
    "    subjectivity = sentiment[1]\n",
    "    \n",
    "    # vaderSentiment analyzer\n",
    "    vader_sentiment = vs.polarity_scores(tweet)\n",
    "    compound = vader_sentiment[\"compound\"]\n",
    "    \n",
    "    # Append results to list\n",
    "    tweets.append(tweet)\n",
    "    polarity_list.append(polarity)\n",
    "    subjectivity_list.append(subjectivity)\n",
    "    vader_sentiment_scores.append(compound)"
   ]
  },
  {
   "cell_type": "code",
   "execution_count": 30,
   "metadata": {},
   "outputs": [],
   "source": [
    "# Create dataframe with all scores\n",
    "scores_df = pd.DataFrame({\"id\": tweets_df[\"id\"], \n",
    "                   \"tweet_date\": tweets_df[\"tweet_date\"],\n",
    "                   \"polarity [-1.0, 1.0]\": polarity_list,\n",
    "                   \"subjectivity [0.0, 1.0]\": subjectivity_list,\n",
    "                   \"vader sentiment [-1.0, 1.0]\": vader_sentiment_scores,\n",
    "                   \"tweets\": tweets})"
   ]
  },
  {
   "cell_type": "code",
   "execution_count": 32,
   "metadata": {},
   "outputs": [
    {
     "data": {
      "text/html": [
       "<div>\n",
       "<style scoped>\n",
       "    .dataframe tbody tr th:only-of-type {\n",
       "        vertical-align: middle;\n",
       "    }\n",
       "\n",
       "    .dataframe tbody tr th {\n",
       "        vertical-align: top;\n",
       "    }\n",
       "\n",
       "    .dataframe thead th {\n",
       "        text-align: right;\n",
       "    }\n",
       "</style>\n",
       "<table border=\"1\" class=\"dataframe\">\n",
       "  <thead>\n",
       "    <tr style=\"text-align: right;\">\n",
       "      <th></th>\n",
       "      <th>id</th>\n",
       "      <th>tweet_date</th>\n",
       "      <th>polarity [-1.0, 1.0]</th>\n",
       "      <th>subjectivity [0.0, 1.0]</th>\n",
       "      <th>vader sentiment [-1.0, 1.0]</th>\n",
       "      <th>tweets</th>\n",
       "    </tr>\n",
       "  </thead>\n",
       "  <tbody>\n",
       "    <tr>\n",
       "      <th>0</th>\n",
       "      <td>1248467312014798848</td>\n",
       "      <td>2020-04-10 04:26:17+00:00</td>\n",
       "      <td>0.0000</td>\n",
       "      <td>0.000000</td>\n",
       "      <td>0.1531</td>\n",
       "      <td>At night day Manhattan one sit middle intersec...</td>\n",
       "    </tr>\n",
       "    <tr>\n",
       "      <th>1</th>\n",
       "      <td>1248531648351801345</td>\n",
       "      <td>2020-04-10 08:41:56+00:00</td>\n",
       "      <td>0.7000</td>\n",
       "      <td>0.600000</td>\n",
       "      <td>0.9100</td>\n",
       "      <td>If don ’ t want catch body like Corona Virus g...</td>\n",
       "    </tr>\n",
       "    <tr>\n",
       "      <th>2</th>\n",
       "      <td>1248549294723997696</td>\n",
       "      <td>2020-04-10 09:52:03+00:00</td>\n",
       "      <td>0.0000</td>\n",
       "      <td>0.000000</td>\n",
       "      <td>0.0000</td>\n",
       "      <td>🇮🇱 Israel crystal ball 10 tear-off calendar 18...</td>\n",
       "    </tr>\n",
       "    <tr>\n",
       "      <th>3</th>\n",
       "      <td>1248534172324560896</td>\n",
       "      <td>2020-04-10 08:51:57+00:00</td>\n",
       "      <td>0.0375</td>\n",
       "      <td>0.191667</td>\n",
       "      <td>0.3680</td>\n",
       "      <td>CORONA AWOOF SALE TOKUNBO 2003 CAMRY PRICE 900...</td>\n",
       "    </tr>\n",
       "    <tr>\n",
       "      <th>4</th>\n",
       "      <td>1248475333705076739</td>\n",
       "      <td>2020-04-10 04:58:09+00:00</td>\n",
       "      <td>0.0000</td>\n",
       "      <td>0.000000</td>\n",
       "      <td>-0.0516</td>\n",
       "      <td>two week lockdown got like expressionless face...</td>\n",
       "    </tr>\n",
       "  </tbody>\n",
       "</table>\n",
       "</div>"
      ],
      "text/plain": [
       "                    id                tweet_date  polarity [-1.0, 1.0]  \\\n",
       "0  1248467312014798848 2020-04-10 04:26:17+00:00                0.0000   \n",
       "1  1248531648351801345 2020-04-10 08:41:56+00:00                0.7000   \n",
       "2  1248549294723997696 2020-04-10 09:52:03+00:00                0.0000   \n",
       "3  1248534172324560896 2020-04-10 08:51:57+00:00                0.0375   \n",
       "4  1248475333705076739 2020-04-10 04:58:09+00:00                0.0000   \n",
       "\n",
       "   subjectivity [0.0, 1.0]  vader sentiment [-1.0, 1.0]  \\\n",
       "0                 0.000000                       0.1531   \n",
       "1                 0.600000                       0.9100   \n",
       "2                 0.000000                       0.0000   \n",
       "3                 0.191667                       0.3680   \n",
       "4                 0.000000                      -0.0516   \n",
       "\n",
       "                                              tweets  \n",
       "0  At night day Manhattan one sit middle intersec...  \n",
       "1  If don ’ t want catch body like Corona Virus g...  \n",
       "2  🇮🇱 Israel crystal ball 10 tear-off calendar 18...  \n",
       "3  CORONA AWOOF SALE TOKUNBO 2003 CAMRY PRICE 900...  \n",
       "4  two week lockdown got like expressionless face...  "
      ]
     },
     "execution_count": 32,
     "metadata": {},
     "output_type": "execute_result"
    }
   ],
   "source": [
    "scores_df.head()"
   ]
  },
  {
   "cell_type": "code",
   "execution_count": 33,
   "metadata": {},
   "outputs": [],
   "source": [
    "scores_df = df.set_index(df[\"tweet_date\"])"
   ]
  },
  {
   "cell_type": "code",
   "execution_count": 41,
   "metadata": {},
   "outputs": [],
   "source": [
    "scores_df = scores_df.set_index(scores_df.index.date)"
   ]
  },
  {
   "cell_type": "code",
   "execution_count": 42,
   "metadata": {},
   "outputs": [],
   "source": [
    "avg_scores_by_date = scores_df.groupby(scores_df.index).mean()"
   ]
  },
  {
   "cell_type": "code",
   "execution_count": 43,
   "metadata": {},
   "outputs": [],
   "source": [
    "avg_scores_by_date = avg_scores_by_date.drop(labels=\"subjectivity [0.0, 1.0]\", axis=1)"
   ]
  },
  {
   "cell_type": "code",
   "execution_count": 44,
   "metadata": {},
   "outputs": [
    {
     "name": "stderr",
     "output_type": "stream",
     "text": [
      "C:\\Users\\flurp\\anaconda3\\lib\\site-packages\\ipykernel_launcher.py:11: UserWarning: Legend does not support [<matplotlib.lines.Line2D object at 0x00000185D59FC888>] instances.\n",
      "A proxy artist may be used instead.\n",
      "See: http://matplotlib.org/users/legend_guide.html#creating-artists-specifically-for-adding-to-the-legend-aka-proxy-artists\n",
      "  # This is added back by InteractiveShellApp.init_path()\n",
      "C:\\Users\\flurp\\anaconda3\\lib\\site-packages\\ipykernel_launcher.py:11: UserWarning: Legend does not support [<matplotlib.lines.Line2D object at 0x00000185D5A0E208>] instances.\n",
      "A proxy artist may be used instead.\n",
      "See: http://matplotlib.org/users/legend_guide.html#creating-artists-specifically-for-adding-to-the-legend-aka-proxy-artists\n",
      "  # This is added back by InteractiveShellApp.init_path()\n"
     ]
    },
    {
     "name": "stdout",
     "output_type": "stream",
     "text": [
      "(737490.75, 737760.25)\n"
     ]
    },
    {
     "data": {
      "image/png": "[encoded data removed]",
      "text/plain": [
       "<Figure size 1440x720 with 2 Axes>"
      ]
     },
     "metadata": {
      "needs_background": "light"
     },
     "output_type": "display_data"
    }
   ],
   "source": [
    "fig, (ax1, ax2) = plt.subplots(1, 2, sharey=True, figsize=(20,10))\n",
    "\n",
    "line1 = ax1.plot(avg_scores_by_date.index, avg_scores_by_date[\"vader sentiment [-1.0, 1.0]\"], color=\"red\")\n",
    "line2 = ax2.plot(avg_scores_by_date.index, avg_scores_by_date[\"polarity [-1.0, 1.0]\"])\n",
    "ax1.set_title(\"Average vaderSentiment Score per Day\", fontsize=\"xx-large\", fontweight=\"heavy\")\n",
    "ax2.set_title(\"Average Polarity Score per Day\", fontsize=\"xx-large\", fontweight=\"heavy\")\n",
    "ax1.axhline(y=0)\n",
    "ax2.axhline(y=0)\n",
    "# ax1.hlines(0,737490.75, 737760.25)\n",
    "# ax2.hlines(0,737477.275, 737773.725 )\n",
    "plt.legend((line1,line2), (\"vaderSentiment\", \"polarity\"))\n",
    "print(ax2.get_xlim())"
   ]
  },
  {
   "cell_type": "code",
   "execution_count": 65,
   "metadata": {},
   "outputs": [],
   "source": [
    "# Clean up the master csv with all geo tweet fields and merge with scores_df created above\n",
    "\n",
    "main_df = pd.read_csv(\"../Raw_Data/Hydrated/all_geo_tweets.csv\")\n",
    "main_df = main_df.drop(columns=['text','media','urls', 'user_urls', 'user_statuses_count', \"user_time_zone\", \n",
    "                      \"user_verified\",\"retweet_id\", \"retweet_screen_name\", \"in_reply_to_screen_name\", \n",
    "                      \"in_reply_to_status_id\", \"in_reply_to_user_id\",\"lang\", \"possibly_sensitive\", \n",
    "                      \"user_default_profile_image\", \"user_description\", \"user_favourites_count\",\n",
    "                      \"user_followers_count\", \"user_listed_count\", \"user_screen_name.1\", \"source\", \"created_at\"])"
   ]
  },
  {
   "cell_type": "code",
   "execution_count": 66,
   "metadata": {},
   "outputs": [],
   "source": [
    "import numpy as np\n",
    "# Create two lists for the loop results to be placed\n",
    "lat = []\n",
    "lon = []\n",
    "\n",
    "# For each row in a varible,\n",
    "for row in main_df['coordinates']:\n",
    "    # Try to,\n",
    "    try:\n",
    "        # Split the row by comma and append\n",
    "        # everything before the comma to lat\n",
    "        lat.append(row.split(',')[1])\n",
    "        # Split the row by comma and append\n",
    "        # everything after the comma to lon\n",
    "        lon.append(row.split(',')[0])\n",
    "    # But if you get an error\n",
    "    except:\n",
    "        # append a missing value to lat\n",
    "        lat.append(np.NaN)\n",
    "        # append a missing value to lon\n",
    "        lon.append(np.NaN)\n",
    "\n",
    "# Create two new columns from lat and lon\n",
    "main_df['latitude'] = lat\n",
    "main_df['longitude'] = lon"
   ]
  },
  {
   "cell_type": "code",
   "execution_count": 67,
   "metadata": {},
   "outputs": [
    {
     "data": {
      "text/plain": [
       "False    252596\n",
       "True        122\n",
       "Name: coordinates, dtype: int64"
      ]
     },
     "execution_count": 67,
     "metadata": {},
     "output_type": "execute_result"
    }
   ],
   "source": [
    "# Number of null coordinate entries vs non-null\n",
    "main_df[\"coordinates\"].isna().value_counts()"
   ]
  },
  {
   "cell_type": "code",
   "execution_count": 72,
   "metadata": {},
   "outputs": [],
   "source": [
    "# Merge scores_df and main_df on tweet id\n",
    "final_df = pd.merge(scores_df, main_df, on=\"id\")\n",
    "\n",
    "# Export to csv \n",
    "final_df.to_csv(\"../Twitter_Data/final_geo_sentiment_scores.csv\")"
   ]
  },
  {
   "cell_type": "code",
   "execution_count": 73,
   "metadata": {},
   "outputs": [
    {
     "data": {
      "text/html": [
       "<div>\n",
       "<style scoped>\n",
       "    .dataframe tbody tr th:only-of-type {\n",
       "        vertical-align: middle;\n",
       "    }\n",
       "\n",
       "    .dataframe tbody tr th {\n",
       "        vertical-align: top;\n",
       "    }\n",
       "\n",
       "    .dataframe thead th {\n",
       "        text-align: right;\n",
       "    }\n",
       "</style>\n",
       "<table border=\"1\" class=\"dataframe\">\n",
       "  <thead>\n",
       "    <tr style=\"text-align: right;\">\n",
       "      <th></th>\n",
       "      <th>id</th>\n",
       "      <th>tweet_date</th>\n",
       "      <th>polarity [-1.0, 1.0]</th>\n",
       "      <th>subjectivity [0.0, 1.0]</th>\n",
       "      <th>vader sentiment [-1.0, 1.0]</th>\n",
       "      <th>tweets</th>\n",
       "      <th>coordinates</th>\n",
       "      <th>hashtags</th>\n",
       "      <th>favorite_count</th>\n",
       "      <th>place</th>\n",
       "      <th>retweet_count</th>\n",
       "      <th>tweet_url</th>\n",
       "      <th>user_created_at</th>\n",
       "      <th>user_screen_name</th>\n",
       "      <th>user_friends_count</th>\n",
       "      <th>user_location</th>\n",
       "      <th>user_name</th>\n",
       "      <th>latitude</th>\n",
       "      <th>longitude</th>\n",
       "    </tr>\n",
       "  </thead>\n",
       "  <tbody>\n",
       "    <tr>\n",
       "      <th>0</th>\n",
       "      <td>1248467312014798848</td>\n",
       "      <td>2020-04-10 04:26:17+00:00</td>\n",
       "      <td>0.0000</td>\n",
       "      <td>0.000000</td>\n",
       "      <td>0.1531</td>\n",
       "      <td>At night day Manhattan one sit middle intersec...</td>\n",
       "      <td>-74.0064,40.7142</td>\n",
       "      <td>follow alone apocalypse corona covid nyc manha...</td>\n",
       "      <td>0</td>\n",
       "      <td>Manhattan, NY</td>\n",
       "      <td>0</td>\n",
       "      <td>https://twitter.com/EmilChynn/status/124846731...</td>\n",
       "      <td>Thu Jan 29 14:13:54 +0000 2009</td>\n",
       "      <td>EmilChynn</td>\n",
       "      <td>1246</td>\n",
       "      <td>333 Park Avenue South NYC USA</td>\n",
       "      <td>Emil William Chynn, MD, FACS, MBA</td>\n",
       "      <td>40.7142</td>\n",
       "      <td>-74.0064</td>\n",
       "    </tr>\n",
       "    <tr>\n",
       "      <th>1</th>\n",
       "      <td>1248531648351801345</td>\n",
       "      <td>2020-04-10 08:41:56+00:00</td>\n",
       "      <td>0.7000</td>\n",
       "      <td>0.600000</td>\n",
       "      <td>0.9100</td>\n",
       "      <td>If don ’ t want catch body like Corona Virus g...</td>\n",
       "      <td>36.81666667,-1.28333333</td>\n",
       "      <td>thenewtoronto3</td>\n",
       "      <td>0</td>\n",
       "      <td>Nairobi, Kenya</td>\n",
       "      <td>0</td>\n",
       "      <td>https://twitter.com/honorabledice/status/12485...</td>\n",
       "      <td>Sat Jan 07 16:13:51 +0000 2017</td>\n",
       "      <td>honorabledice</td>\n",
       "      <td>43</td>\n",
       "      <td>Worldwide</td>\n",
       "      <td>Honorable Dice</td>\n",
       "      <td>-1.28333333</td>\n",
       "      <td>36.81666667</td>\n",
       "    </tr>\n",
       "    <tr>\n",
       "      <th>2</th>\n",
       "      <td>1248549294723997696</td>\n",
       "      <td>2020-04-10 09:52:03+00:00</td>\n",
       "      <td>0.0000</td>\n",
       "      <td>0.000000</td>\n",
       "      <td>0.0000</td>\n",
       "      <td>🇮🇱 Israel crystal ball 10 tear-off calendar 18...</td>\n",
       "      <td>35,31</td>\n",
       "      <td>CovidIsrael</td>\n",
       "      <td>0</td>\n",
       "      <td>Israel</td>\n",
       "      <td>0</td>\n",
       "      <td>https://twitter.com/neilellis/status/124854929...</td>\n",
       "      <td>Thu Apr 03 10:13:37 +0000 2008</td>\n",
       "      <td>neilellis</td>\n",
       "      <td>257</td>\n",
       "      <td>UK</td>\n",
       "      <td>Neil Ellis</td>\n",
       "      <td>31</td>\n",
       "      <td>35</td>\n",
       "    </tr>\n",
       "    <tr>\n",
       "      <th>3</th>\n",
       "      <td>1248534172324560896</td>\n",
       "      <td>2020-04-10 08:51:57+00:00</td>\n",
       "      <td>0.0375</td>\n",
       "      <td>0.191667</td>\n",
       "      <td>0.3680</td>\n",
       "      <td>CORONA AWOOF SALE TOKUNBO 2003 CAMRY PRICE 900...</td>\n",
       "      <td>3.36494044,6.57778852</td>\n",
       "      <td>NaN</td>\n",
       "      <td>1</td>\n",
       "      <td>Ikeja, Nigeria</td>\n",
       "      <td>0</td>\n",
       "      <td>https://twitter.com/bushman4u2me/status/124853...</td>\n",
       "      <td>Fri Mar 11 00:40:09 +0000 2011</td>\n",
       "      <td>bushman4u2me</td>\n",
       "      <td>826</td>\n",
       "      <td>Lagos, Nigeria</td>\n",
       "      <td>JUSTICE</td>\n",
       "      <td>6.57778852</td>\n",
       "      <td>3.36494044</td>\n",
       "    </tr>\n",
       "    <tr>\n",
       "      <th>4</th>\n",
       "      <td>1248475333705076739</td>\n",
       "      <td>2020-04-10 04:58:09+00:00</td>\n",
       "      <td>0.0000</td>\n",
       "      <td>0.000000</td>\n",
       "      <td>-0.0516</td>\n",
       "      <td>two week lockdown got like expressionless face...</td>\n",
       "      <td>NaN</td>\n",
       "      <td>LockdownSA corona quarantine lockedin rightnow...</td>\n",
       "      <td>0</td>\n",
       "      <td>NaN</td>\n",
       "      <td>0</td>\n",
       "      <td>https://twitter.com/thegearsh/status/124847533...</td>\n",
       "      <td>Fri Jul 10 10:44:22 +0000 2015</td>\n",
       "      <td>thegearsh</td>\n",
       "      <td>1720</td>\n",
       "      <td>Cyberspace</td>\n",
       "      <td>Tech Star</td>\n",
       "      <td>NaN</td>\n",
       "      <td>NaN</td>\n",
       "    </tr>\n",
       "  </tbody>\n",
       "</table>\n",
       "</div>"
      ],
      "text/plain": [
       "                    id                tweet_date  polarity [-1.0, 1.0]  \\\n",
       "0  1248467312014798848 2020-04-10 04:26:17+00:00                0.0000   \n",
       "1  1248531648351801345 2020-04-10 08:41:56+00:00                0.7000   \n",
       "2  1248549294723997696 2020-04-10 09:52:03+00:00                0.0000   \n",
       "3  1248534172324560896 2020-04-10 08:51:57+00:00                0.0375   \n",
       "4  1248475333705076739 2020-04-10 04:58:09+00:00                0.0000   \n",
       "\n",
       "   subjectivity [0.0, 1.0]  vader sentiment [-1.0, 1.0]  \\\n",
       "0                 0.000000                       0.1531   \n",
       "1                 0.600000                       0.9100   \n",
       "2                 0.000000                       0.0000   \n",
       "3                 0.191667                       0.3680   \n",
       "4                 0.000000                      -0.0516   \n",
       "\n",
       "                                              tweets              coordinates  \\\n",
       "0  At night day Manhattan one sit middle intersec...         -74.0064,40.7142   \n",
       "1  If don ’ t want catch body like Corona Virus g...  36.81666667,-1.28333333   \n",
       "2  🇮🇱 Israel crystal ball 10 tear-off calendar 18...                    35,31   \n",
       "3  CORONA AWOOF SALE TOKUNBO 2003 CAMRY PRICE 900...    3.36494044,6.57778852   \n",
       "4  two week lockdown got like expressionless face...                      NaN   \n",
       "\n",
       "                                            hashtags  favorite_count  \\\n",
       "0  follow alone apocalypse corona covid nyc manha...               0   \n",
       "1                                     thenewtoronto3               0   \n",
       "2                                        CovidIsrael               0   \n",
       "3                                                NaN               1   \n",
       "4  LockdownSA corona quarantine lockedin rightnow...               0   \n",
       "\n",
       "            place  retweet_count  \\\n",
       "0   Manhattan, NY              0   \n",
       "1  Nairobi, Kenya              0   \n",
       "2          Israel              0   \n",
       "3  Ikeja, Nigeria              0   \n",
       "4             NaN              0   \n",
       "\n",
       "                                           tweet_url  \\\n",
       "0  https://twitter.com/EmilChynn/status/124846731...   \n",
       "1  https://twitter.com/honorabledice/status/12485...   \n",
       "2  https://twitter.com/neilellis/status/124854929...   \n",
       "3  https://twitter.com/bushman4u2me/status/124853...   \n",
       "4  https://twitter.com/thegearsh/status/124847533...   \n",
       "\n",
       "                  user_created_at user_screen_name  user_friends_count  \\\n",
       "0  Thu Jan 29 14:13:54 +0000 2009        EmilChynn                1246   \n",
       "1  Sat Jan 07 16:13:51 +0000 2017    honorabledice                  43   \n",
       "2  Thu Apr 03 10:13:37 +0000 2008        neilellis                 257   \n",
       "3  Fri Mar 11 00:40:09 +0000 2011     bushman4u2me                 826   \n",
       "4  Fri Jul 10 10:44:22 +0000 2015        thegearsh                1720   \n",
       "\n",
       "                   user_location                          user_name  \\\n",
       "0  333 Park Avenue South NYC USA  Emil William Chynn, MD, FACS, MBA   \n",
       "1                      Worldwide                     Honorable Dice   \n",
       "2                             UK                         Neil Ellis   \n",
       "3                 Lagos, Nigeria                            JUSTICE   \n",
       "4                    Cyberspace                           Tech Star   \n",
       "\n",
       "      latitude    longitude  \n",
       "0      40.7142     -74.0064  \n",
       "1  -1.28333333  36.81666667  \n",
       "2           31           35  \n",
       "3   6.57778852   3.36494044  \n",
       "4          NaN          NaN  "
      ]
     },
     "execution_count": 73,
     "metadata": {},
     "output_type": "execute_result"
    }
   ],
   "source": [
    "final_df.head()"
   ]
  }
 ],
 "metadata": {
  "kernelspec": {
   "display_name": "Python 3",
   "language": "python",
   "name": "python3"
  },
  "language_info": {
   "codemirror_mode": {
    "name": "ipython",
    "version": 3
   },
   "file_extension": ".py",
   "mimetype": "text/x-python",
   "name": "python",
   "nbconvert_exporter": "python",
   "pygments_lexer": "ipython3",
   "version": "3.7.6"
  }
 },
 "nbformat": 4,
 "nbformat_minor": 4
}
