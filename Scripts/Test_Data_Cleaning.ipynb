{
 "cells": [
  {
   "cell_type": "code",
   "execution_count": 1,
   "metadata": {},
   "outputs": [],
   "source": [
    "#dependencies \n",
    "import pandas as pd\n",
    "import json"
   ]
  },
  {
   "cell_type": "code",
   "execution_count": 2,
   "metadata": {},
   "outputs": [],
   "source": [
    "with open(\"../Raw_Data/Hydrated/11_14-11_15.json\", encoding=\"utf8\") as f:\n",
    "    data = f.readlines()\n",
    "    data = [json.loads(line) for line in data]"
   ]
  },
  {
   "cell_type": "code",
   "execution_count": 3,
   "metadata": {},
   "outputs": [],
   "source": [
    "df = pd.read_json(\"../Raw_Data/Hydrated/11_14-11_15.json\", lines=True)"
   ]
  },
  {
   "cell_type": "code",
   "execution_count": 13,
   "metadata": {},
   "outputs": [
    {
     "name": "stdout",
     "output_type": "stream",
     "text": [
      "<class 'pandas.core.frame.DataFrame'>\n",
      "RangeIndex: 661 entries, 0 to 660\n",
      "Data columns (total 30 columns):\n",
      " #   Column                     Non-Null Count  Dtype              \n",
      "---  ------                     --------------  -----              \n",
      " 0   created_at                 661 non-null    datetime64[ns, UTC]\n",
      " 1   id                         661 non-null    int64              \n",
      " 2   id_str                     661 non-null    int64              \n",
      " 3   full_text                  661 non-null    object             \n",
      " 4   truncated                  661 non-null    bool               \n",
      " 5   display_text_range         661 non-null    object             \n",
      " 6   entities                   661 non-null    object             \n",
      " 7   source                     661 non-null    object             \n",
      " 8   in_reply_to_status_id      15 non-null     float64            \n",
      " 9   in_reply_to_status_id_str  15 non-null     float64            \n",
      " 10  in_reply_to_user_id        17 non-null     float64            \n",
      " 11  in_reply_to_user_id_str    17 non-null     float64            \n",
      " 12  in_reply_to_screen_name    17 non-null     object             \n",
      " 13  user                       661 non-null    object             \n",
      " 14  geo                        661 non-null    object             \n",
      " 15  coordinates                661 non-null    object             \n",
      " 16  place                      660 non-null    object             \n",
      " 17  contributors               0 non-null      float64            \n",
      " 18  is_quote_status            661 non-null    bool               \n",
      " 19  retweet_count              661 non-null    int64              \n",
      " 20  favorite_count             661 non-null    int64              \n",
      " 21  favorited                  661 non-null    bool               \n",
      " 22  retweeted                  661 non-null    bool               \n",
      " 23  possibly_sensitive         632 non-null    float64            \n",
      " 24  lang                       661 non-null    object             \n",
      " 25  extended_entities          30 non-null     object             \n",
      " 26  quoted_status_id           9 non-null      float64            \n",
      " 27  quoted_status_id_str       9 non-null      float64            \n",
      " 28  quoted_status_permalink    9 non-null      object             \n",
      " 29  quoted_status              8 non-null      object             \n",
      "dtypes: bool(4), datetime64[ns, UTC](1), float64(8), int64(4), object(13)\n",
      "memory usage: 137.0+ KB\n"
     ]
    }
   ],
   "source": [
    "df.info()"
   ]
  },
  {
   "cell_type": "code",
   "execution_count": 5,
   "metadata": {},
   "outputs": [
    {
     "data": {
      "text/plain": [
       "Index(['created_at', 'id', 'id_str', 'full_text', 'truncated',\n",
       "       'display_text_range', 'entities', 'source', 'in_reply_to_status_id',\n",
       "       'in_reply_to_status_id_str', 'in_reply_to_user_id',\n",
       "       'in_reply_to_user_id_str', 'in_reply_to_screen_name', 'user', 'geo',\n",
       "       'coordinates', 'place', 'contributors', 'is_quote_status',\n",
       "       'retweet_count', 'favorite_count', 'favorited', 'retweeted',\n",
       "       'possibly_sensitive', 'lang', 'extended_entities', 'quoted_status_id',\n",
       "       'quoted_status_id_str', 'quoted_status_permalink', 'quoted_status'],\n",
       "      dtype='object')"
      ]
     },
     "execution_count": 5,
     "metadata": {},
     "output_type": "execute_result"
    }
   ],
   "source": [
    "df.columns"
   ]
  },
  {
   "cell_type": "code",
   "execution_count": 8,
   "metadata": {},
   "outputs": [
    {
     "data": {
      "text/plain": [
       "{'type': 'Point', 'coordinates': [24.7627, -28.74]}"
      ]
     },
     "execution_count": 8,
     "metadata": {},
     "output_type": "execute_result"
    }
   ],
   "source": [
    "df[\"coordinates\"][0]"
   ]
  },
  {
   "cell_type": "code",
   "execution_count": 10,
   "metadata": {},
   "outputs": [
    {
     "data": {
      "text/plain": [
       "{'type': 'Point', 'coordinates': [-28.74, 24.7627]}"
      ]
     },
     "execution_count": 10,
     "metadata": {},
     "output_type": "execute_result"
    }
   ],
   "source": [
    "df[\"geo\"][0]"
   ]
  },
  {
   "cell_type": "code",
   "execution_count": 12,
   "metadata": {},
   "outputs": [
    {
     "data": {
      "text/plain": [
       "0     599\n",
       "1      52\n",
       "2       5\n",
       "3       2\n",
       "20      1\n",
       "11      1\n",
       "4       1\n",
       "Name: retweet_count, dtype: int64"
      ]
     },
     "execution_count": 12,
     "metadata": {},
     "output_type": "execute_result"
    }
   ],
   "source": [
    "df[\"retweet_count\"].value_counts()"
   ]
  },
  {
   "cell_type": "code",
   "execution_count": null,
   "metadata": {},
   "outputs": [],
   "source": []
  }
 ],
 "metadata": {
  "kernelspec": {
   "display_name": "Python 3",
   "language": "python",
   "name": "python3"
  },
  "language_info": {
   "codemirror_mode": {
    "name": "ipython",
    "version": 3
   },
   "file_extension": ".py",
   "mimetype": "text/x-python",
   "name": "python",
   "nbconvert_exporter": "python",
   "pygments_lexer": "ipython3",
   "version": "3.7.6"
  }
 },
 "nbformat": 4,
 "nbformat_minor": 4
}
