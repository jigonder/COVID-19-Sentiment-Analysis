{
 "cells": [
  {
   "cell_type": "code",
   "execution_count": 1,
   "metadata": {},
   "outputs": [
    {
     "name": "stderr",
     "output_type": "stream",
     "text": [
      "[nltk_data] Downloading package wordnet to\n",
      "[nltk_data]     /Users/Jillian_Gonder/nltk_data...\n",
      "[nltk_data]   Package wordnet is already up-to-date!\n"
     ]
    }
   ],
   "source": [
    "import json\n",
    "import re \n",
    "import nltk\n",
    "nltk.download('wordnet')\n",
    "import pandas as pd\n",
    "from ibm_watson import ToneAnalyzerV3\n",
    "from ibm_cloud_sdk_core.authenticators import IAMAuthenticator\n",
    "\n",
    "# plotting\n",
    "import matplotlib.pyplot as plt\n",
    "\n",
    "# Models\n",
    "from nltk.stem import WordNetLemmatizer\n",
    "from sklearn.svm import LinearSVC\n",
    "from sklearn.naive_bayes import BernoulliNB\n",
    "from sklearn.linear_model import LogisticRegression\n",
    "\n",
    "from sklearn.model_selection import train_test_split\n",
    "from sklearn.feature_extraction.text import ENGLISH_STOP_WORDS\n",
    "from sklearn.feature_extraction.text import TfidfVectorizer\n",
    "from sklearn.metrics import confusion_matrix, classification_report"
   ]
  },
  {
   "cell_type": "code",
   "execution_count": 40,
   "metadata": {},
   "outputs": [],
   "source": [
    "# Read in tweet text from the all geo tweets file\n",
    "data = pd.read_csv(\"../Raw_data/Hydrated/all_geo_tweets.csv\", encoding=\"ISO-8859-1\")"
   ]
  },
  {
   "cell_type": "code",
   "execution_count": 41,
   "metadata": {},
   "outputs": [
    {
     "data": {
      "text/html": [
       "<div>\n",
       "<style scoped>\n",
       "    .dataframe tbody tr th:only-of-type {\n",
       "        vertical-align: middle;\n",
       "    }\n",
       "\n",
       "    .dataframe tbody tr th {\n",
       "        vertical-align: top;\n",
       "    }\n",
       "\n",
       "    .dataframe thead th {\n",
       "        text-align: right;\n",
       "    }\n",
       "</style>\n",
       "<table border=\"1\" class=\"dataframe\">\n",
       "  <thead>\n",
       "    <tr style=\"text-align: right;\">\n",
       "      <th></th>\n",
       "      <th>coordinates</th>\n",
       "      <th>created_at</th>\n",
       "      <th>hashtags</th>\n",
       "      <th>media</th>\n",
       "      <th>urls</th>\n",
       "      <th>favorite_count</th>\n",
       "      <th>id</th>\n",
       "      <th>in_reply_to_screen_name</th>\n",
       "      <th>in_reply_to_status_id</th>\n",
       "      <th>in_reply_to_user_id</th>\n",
       "      <th>...</th>\n",
       "      <th>user_followers_count</th>\n",
       "      <th>user_friends_count</th>\n",
       "      <th>user_listed_count</th>\n",
       "      <th>user_location</th>\n",
       "      <th>user_name</th>\n",
       "      <th>user_screen_name.1</th>\n",
       "      <th>user_statuses_count</th>\n",
       "      <th>user_time_zone</th>\n",
       "      <th>user_urls</th>\n",
       "      <th>user_verified</th>\n",
       "    </tr>\n",
       "  </thead>\n",
       "  <tbody>\n",
       "    <tr>\n",
       "      <th>0</th>\n",
       "      <td>-74.0064,40.7142</td>\n",
       "      <td>Fri Apr 10 04:26:17 +0000 2020</td>\n",
       "      <td>follow alone apocalypse corona covid nyc manha...</td>\n",
       "      <td>NaN</td>\n",
       "      <td>https://www.instagram.com/p/B-yWtu4HcFO/?igshi...</td>\n",
       "      <td>0</td>\n",
       "      <td>1248467312014798848</td>\n",
       "      <td>NaN</td>\n",
       "      <td>NaN</td>\n",
       "      <td>NaN</td>\n",
       "      <td>...</td>\n",
       "      <td>1615</td>\n",
       "      <td>1246</td>\n",
       "      <td>22</td>\n",
       "      <td>333 Park Avenue South NYC USA</td>\n",
       "      <td>Emil William Chynn, MD, FACS, MBA</td>\n",
       "      <td>EmilChynn</td>\n",
       "      <td>6372</td>\n",
       "      <td>NaN</td>\n",
       "      <td>http://www.ParkAvenueLASEK.com</td>\n",
       "      <td>False</td>\n",
       "    </tr>\n",
       "    <tr>\n",
       "      <th>1</th>\n",
       "      <td>36.81666667,-1.28333333</td>\n",
       "      <td>Fri Apr 10 08:41:56 +0000 2020</td>\n",
       "      <td>thenewtoronto3</td>\n",
       "      <td>NaN</td>\n",
       "      <td>https://www.instagram.com/p/B-y0UVNBdW6/?igshi...</td>\n",
       "      <td>0</td>\n",
       "      <td>1248531648351801345</td>\n",
       "      <td>NaN</td>\n",
       "      <td>NaN</td>\n",
       "      <td>NaN</td>\n",
       "      <td>...</td>\n",
       "      <td>1925</td>\n",
       "      <td>43</td>\n",
       "      <td>2</td>\n",
       "      <td>Worldwide</td>\n",
       "      <td>Honorable Dice</td>\n",
       "      <td>honorabledice</td>\n",
       "      <td>679</td>\n",
       "      <td>NaN</td>\n",
       "      <td>http://donadostone.fanlink.to/sunday-morning</td>\n",
       "      <td>False</td>\n",
       "    </tr>\n",
       "    <tr>\n",
       "      <th>2</th>\n",
       "      <td>35,31</td>\n",
       "      <td>Fri Apr 10 09:52:03 +0000 2020</td>\n",
       "      <td>CovidIsrael</td>\n",
       "      <td>NaN</td>\n",
       "      <td>https://corona-scanner.com/country/israel http...</td>\n",
       "      <td>0</td>\n",
       "      <td>1248549294723997696</td>\n",
       "      <td>neilellis</td>\n",
       "      <td>1.248549e+18</td>\n",
       "      <td>14292054.0</td>\n",
       "      <td>...</td>\n",
       "      <td>524</td>\n",
       "      <td>257</td>\n",
       "      <td>60</td>\n",
       "      <td>UK</td>\n",
       "      <td>Neil Ellis</td>\n",
       "      <td>neilellis</td>\n",
       "      <td>34720</td>\n",
       "      <td>NaN</td>\n",
       "      <td>NaN</td>\n",
       "      <td>False</td>\n",
       "    </tr>\n",
       "    <tr>\n",
       "      <th>3</th>\n",
       "      <td>3.36494044,6.57778852</td>\n",
       "      <td>Fri Apr 10 08:51:57 +0000 2020</td>\n",
       "      <td>NaN</td>\n",
       "      <td>NaN</td>\n",
       "      <td>https://www.instagram.com/p/B-y1dzwpfwmwr3pZgx...</td>\n",
       "      <td>1</td>\n",
       "      <td>1248534172324560896</td>\n",
       "      <td>NaN</td>\n",
       "      <td>NaN</td>\n",
       "      <td>NaN</td>\n",
       "      <td>...</td>\n",
       "      <td>182</td>\n",
       "      <td>826</td>\n",
       "      <td>0</td>\n",
       "      <td>Lagos, Nigeria</td>\n",
       "      <td>JUSTICE</td>\n",
       "      <td>bushman4u2me</td>\n",
       "      <td>255</td>\n",
       "      <td>NaN</td>\n",
       "      <td>NaN</td>\n",
       "      <td>False</td>\n",
       "    </tr>\n",
       "    <tr>\n",
       "      <th>4</th>\n",
       "      <td>NaN</td>\n",
       "      <td>Fri Apr 10 04:58:09 +0000 2020</td>\n",
       "      <td>LockdownSA corona quarantine lockedin rightnow...</td>\n",
       "      <td>NaN</td>\n",
       "      <td>https://www.instagram.com/p/B-yatfHlXCg/?igshi...</td>\n",
       "      <td>0</td>\n",
       "      <td>1248475333705076739</td>\n",
       "      <td>NaN</td>\n",
       "      <td>NaN</td>\n",
       "      <td>NaN</td>\n",
       "      <td>...</td>\n",
       "      <td>822</td>\n",
       "      <td>1720</td>\n",
       "      <td>20</td>\n",
       "      <td>Cyberspace</td>\n",
       "      <td>Tech Star</td>\n",
       "      <td>thegearsh</td>\n",
       "      <td>9544</td>\n",
       "      <td>NaN</td>\n",
       "      <td>http://www.thegearsh.co.za</td>\n",
       "      <td>False</td>\n",
       "    </tr>\n",
       "  </tbody>\n",
       "</table>\n",
       "<p>5 rows × 34 columns</p>\n",
       "</div>"
      ],
      "text/plain": [
       "               coordinates                      created_at  \\\n",
       "0         -74.0064,40.7142  Fri Apr 10 04:26:17 +0000 2020   \n",
       "1  36.81666667,-1.28333333  Fri Apr 10 08:41:56 +0000 2020   \n",
       "2                    35,31  Fri Apr 10 09:52:03 +0000 2020   \n",
       "3    3.36494044,6.57778852  Fri Apr 10 08:51:57 +0000 2020   \n",
       "4                      NaN  Fri Apr 10 04:58:09 +0000 2020   \n",
       "\n",
       "                                            hashtags media  \\\n",
       "0  follow alone apocalypse corona covid nyc manha...   NaN   \n",
       "1                                     thenewtoronto3   NaN   \n",
       "2                                        CovidIsrael   NaN   \n",
       "3                                                NaN   NaN   \n",
       "4  LockdownSA corona quarantine lockedin rightnow...   NaN   \n",
       "\n",
       "                                                urls  favorite_count  \\\n",
       "0  https://www.instagram.com/p/B-yWtu4HcFO/?igshi...               0   \n",
       "1  https://www.instagram.com/p/B-y0UVNBdW6/?igshi...               0   \n",
       "2  https://corona-scanner.com/country/israel http...               0   \n",
       "3  https://www.instagram.com/p/B-y1dzwpfwmwr3pZgx...               1   \n",
       "4  https://www.instagram.com/p/B-yatfHlXCg/?igshi...               0   \n",
       "\n",
       "                    id in_reply_to_screen_name  in_reply_to_status_id  \\\n",
       "0  1248467312014798848                     NaN                    NaN   \n",
       "1  1248531648351801345                     NaN                    NaN   \n",
       "2  1248549294723997696               neilellis           1.248549e+18   \n",
       "3  1248534172324560896                     NaN                    NaN   \n",
       "4  1248475333705076739                     NaN                    NaN   \n",
       "\n",
       "   in_reply_to_user_id  ... user_followers_count user_friends_count  \\\n",
       "0                  NaN  ...                 1615               1246   \n",
       "1                  NaN  ...                 1925                 43   \n",
       "2           14292054.0  ...                  524                257   \n",
       "3                  NaN  ...                  182                826   \n",
       "4                  NaN  ...                  822               1720   \n",
       "\n",
       "  user_listed_count                  user_location  \\\n",
       "0                22  333 Park Avenue South NYC USA   \n",
       "1                 2                      Worldwide   \n",
       "2                60                             UK   \n",
       "3                 0                 Lagos, Nigeria   \n",
       "4                20                    Cyberspace    \n",
       "\n",
       "                           user_name  user_screen_name.1 user_statuses_count  \\\n",
       "0  Emil William Chynn, MD, FACS, MBA           EmilChynn                6372   \n",
       "1                     Honorable Dice       honorabledice                 679   \n",
       "2                         Neil Ellis           neilellis               34720   \n",
       "3                            JUSTICE        bushman4u2me                 255   \n",
       "4                          Tech Star           thegearsh                9544   \n",
       "\n",
       "  user_time_zone                                     user_urls user_verified  \n",
       "0            NaN                http://www.ParkAvenueLASEK.com         False  \n",
       "1            NaN  http://donadostone.fanlink.to/sunday-morning         False  \n",
       "2            NaN                                           NaN         False  \n",
       "3            NaN                                           NaN         False  \n",
       "4            NaN                    http://www.thegearsh.co.za         False  \n",
       "\n",
       "[5 rows x 34 columns]"
      ]
     },
     "execution_count": 41,
     "metadata": {},
     "output_type": "execute_result"
    }
   ],
   "source": [
    "data.head()"
   ]
  },
  {
   "cell_type": "code",
   "execution_count": 42,
   "metadata": {},
   "outputs": [
    {
     "data": {
      "text/plain": [
       "252596"
      ]
     },
     "execution_count": 42,
     "metadata": {},
     "output_type": "execute_result"
    }
   ],
   "source": [
    "data[['coordinates', 'text', 'id']]\n",
    "data = data.dropna(subset=['coordinates', 'text', 'id'])\n",
    "len(data['id'])"
   ]
  },
  {
   "cell_type": "code",
   "execution_count": 43,
   "metadata": {},
   "outputs": [],
   "source": [
    "tweets = data[\"text\"]"
   ]
  },
  {
   "cell_type": "code",
   "execution_count": 44,
   "metadata": {},
   "outputs": [
    {
     "data": {
      "text/plain": [
       "252596"
      ]
     },
     "execution_count": 44,
     "metadata": {},
     "output_type": "execute_result"
    }
   ],
   "source": [
    "len(tweets)"
   ]
  },
  {
   "cell_type": "code",
   "execution_count": 45,
   "metadata": {},
   "outputs": [
    {
     "data": {
      "text/plain": [
       "0    At night these days in Manhattan, one can sit ...\n",
       "1    If you donât want catch bodies just like  Co...\n",
       "2    ð®ð± Israel\\n\\nð®: 10ð 183ð\\nð®:...\n",
       "3    CORONA AWOOF SALE\\nTOKUNBO 2003 CAMRY \\nPRICE....\n",
       "5    ð©ð° Denmark\\n\\nð®: 10ð 518ð\\nð®...\n",
       "Name: text, dtype: object"
      ]
     },
     "execution_count": 45,
     "metadata": {},
     "output_type": "execute_result"
    }
   ],
   "source": [
    "tweets.head()"
   ]
  },
  {
   "cell_type": "code",
   "execution_count": 46,
   "metadata": {},
   "outputs": [],
   "source": [
    "# Defining dictionary containing all emojis with their meanings.\n",
    "emojis = {':)': 'smile', ':-)': 'smile', ';d': 'wink', ':-E': 'vampire', ':(': 'sad', \n",
    "          ':-(': 'sad', ':-<': 'sad', ':P': 'raspberry', ':O': 'surprised',\n",
    "          ':-@': 'shocked', ':@': 'shocked',':-$': 'confused', ':\\\\': 'annoyed', \n",
    "          ':#': 'mute', ':X': 'mute', ':^)': 'smile', ':-&': 'confused', '$_$': 'greedy',\n",
    "          '@@': 'eyeroll', ':-!': 'confused', ':-D': 'smile', ':-0': 'yell', 'O.o': 'confused',\n",
    "          '<(-_-)>': 'robot', 'd[-_-]b': 'dj', \":'-)\": 'sadsmile', ';)': 'wink', \n",
    "          ';-)': 'wink', 'O:-)': 'angel','O*-)': 'angel','(:-D': 'gossip', '=^.^=': 'cat'}"
   ]
  },
  {
   "cell_type": "code",
   "execution_count": 47,
   "metadata": {},
   "outputs": [],
   "source": [
    "## Defining set containing all stopwords in english from sklearn library\n",
    "stopwordlist = ENGLISH_STOP_WORDS"
   ]
  },
  {
   "cell_type": "code",
   "execution_count": 48,
   "metadata": {},
   "outputs": [],
   "source": [
    "#A function to process the tweet text before sending to the analyzer\n",
    "def preprocess(data):\n",
    "    processed_text = []\n",
    "    \n",
    "    # Defining dictionary containing all emojis with their meanings.\n",
    "    emojis = {':)': 'smile', ':-)': 'smile', ';d': 'wink', ':-E': 'vampire', ':(': 'sad', \n",
    "          ':-(': 'sad', ':-<': 'sad', ':P': 'raspberry', ':O': 'surprised',\n",
    "          ':-@': 'shocked', ':@': 'shocked',':-$': 'confused', ':\\\\': 'annoyed', \n",
    "          ':#': 'mute', ':X': 'mute', ':^)': 'smile', ':-&': 'confused', '$_$': 'greedy',\n",
    "          '@@': 'eyeroll', ':-!': 'confused', ':-D': 'smile', ':-0': 'yell', 'O.o': 'confused',\n",
    "          '<(-_-)>': 'robot', 'd[-_-]b': 'dj', \":'-)\": 'sadsmile', ';)': 'wink', \n",
    "          ';-)': 'wink', 'O:-)': 'angel','O*-)': 'angel','(:-D': 'gossip', '=^.^=': 'cat'}\n",
    "    \n",
    "    ## Defining set containing all stopwords in english from sklearn library\n",
    "    stopwordlist = ENGLISH_STOP_WORDS\n",
    "    \n",
    "    # Creating Lemmatizer\n",
    "    lemm = WordNetLemmatizer()\n",
    "    \n",
    "    # Defining regex patterns\n",
    "    url_pattern = r\"((http://)[^ ]*|(https://)[^ ]*|(www\\.)[^ ]*)\"\n",
    "    user_pattern = r\"@[^\\s]+\"\n",
    "    non_alphabet = r\"[^a-zA-Z0-9]\"\n",
    "    three_chars = r\"(.)\\1\\1+\"\n",
    "    two_chars = r\"\\1\\1\"\n",
    "    \n",
    "    for tweet in data:\n",
    "        # Lowercase all words\n",
    "        tweet = tweet.lower()\n",
    "        # Replace all URL's with \"URL\"\n",
    "        tweet = re.sub(url_pattern, \"URL\", tweet)\n",
    "        # Replace username @ handle with \"USER\"\n",
    "        tweet = re.sub(user_pattern, \"USER\", tweet)\n",
    "        # Replace emojis with meaning behind emoji\n",
    "        for emoji in emojis.keys():\n",
    "            tweet = tweet.replace(emoji, \"EMOJI\" + emojis[emoji])\n",
    "        # Replace all non alphabetical chars \n",
    "        # Replace 3 or more consecutive letters by 2 letters\n",
    "        \n",
    "        # Initiate processed tweet string\n",
    "        lemm_words = ''\n",
    "        # Lemmatize tweet\n",
    "        for word in tweet.split():\n",
    "            #Check if word is a stop word\n",
    "            if word not in stopwordlist:\n",
    "                # Check if word is longer than 1 char\n",
    "                if len(word) > 1:\n",
    "                    word = lemm.lemmatize(word)\n",
    "                    lemm_words += (word+\" \")\n",
    "        \n",
    "        processed_text.append(lemm_words)\n",
    "    return processed_text"
   ]
  },
  {
   "cell_type": "code",
   "execution_count": 49,
   "metadata": {},
   "outputs": [
    {
     "name": "stdout",
     "output_type": "stream",
     "text": [
      "time to process: 33.84243893623352\n"
     ]
    }
   ],
   "source": [
    "import time\n",
    "t = time.time()\n",
    "processed_text = preprocess(tweets)\n",
    "\n",
    "print(f\"time to process: {time.time() - t}\")"
   ]
  },
  {
   "cell_type": "code",
   "execution_count": 50,
   "metadata": {},
   "outputs": [
    {
     "data": {
      "text/plain": [
       "252596"
      ]
     },
     "execution_count": 50,
     "metadata": {},
     "output_type": "execute_result"
    }
   ],
   "source": [
    "#Checking length of the data again to confirm it is the same as pre - processing \n",
    "len(processed_text)"
   ]
  },
  {
   "cell_type": "code",
   "execution_count": 51,
   "metadata": {},
   "outputs": [
    {
     "data": {
      "text/plain": [
       "252596"
      ]
     },
     "execution_count": 51,
     "metadata": {},
     "output_type": "execute_result"
    }
   ],
   "source": [
    "len(data[\"coordinates\"])\n"
   ]
  },
  {
   "cell_type": "code",
   "execution_count": 52,
   "metadata": {},
   "outputs": [
    {
     "data": {
      "text/plain": [
       "252596"
      ]
     },
     "execution_count": 52,
     "metadata": {},
     "output_type": "execute_result"
    }
   ],
   "source": [
    "len(data[\"id\"])"
   ]
  },
  {
   "cell_type": "code",
   "execution_count": 53,
   "metadata": {},
   "outputs": [],
   "source": [
    "\n",
    "#Create dictionary to hold tweet text and tone json response\n",
    "output = {}\n",
    "output['text'] = []\n",
    "\n",
    "#Loop through the tweets \n",
    "for x in range(0, (len(processed_text))):\n",
    "    output['text'].append(processed_text[x])\n",
    "    #print(json.dumps(tone_analysis, indent=2))\n"
   ]
  },
  {
   "cell_type": "code",
   "execution_count": 54,
   "metadata": {},
   "outputs": [
    {
     "data": {
      "text/plain": [
       "252596"
      ]
     },
     "execution_count": 54,
     "metadata": {},
     "output_type": "execute_result"
    }
   ],
   "source": [
    "text = output['text']\n",
    "len(text)\n"
   ]
  },
  {
   "cell_type": "code",
   "execution_count": 55,
   "metadata": {},
   "outputs": [
    {
     "data": {
      "text/plain": [
       "252596"
      ]
     },
     "execution_count": 55,
     "metadata": {},
     "output_type": "execute_result"
    }
   ],
   "source": [
    "coordinates = data['coordinates']\n",
    "len(coordinates)\n"
   ]
  },
  {
   "cell_type": "code",
   "execution_count": 56,
   "metadata": {},
   "outputs": [
    {
     "data": {
      "text/plain": [
       "252596"
      ]
     },
     "execution_count": 56,
     "metadata": {},
     "output_type": "execute_result"
    }
   ],
   "source": [
    "id = data['id']\n",
    "len(id)"
   ]
  },
  {
   "cell_type": "code",
   "execution_count": 57,
   "metadata": {},
   "outputs": [],
   "source": [
    "#Creating a new df with the tweet text, tone, and score (for the tweets which had detected tones)\n",
    "df = pd.DataFrame({\n",
    "    'id' : id,\n",
    "  'text' : analyzed_text,\n",
    "    'coordinates' : coordinates})"
   ]
  },
  {
   "cell_type": "code",
   "execution_count": 58,
   "metadata": {},
   "outputs": [
    {
     "data": {
      "text/html": [
       "<div>\n",
       "<style scoped>\n",
       "    .dataframe tbody tr th:only-of-type {\n",
       "        vertical-align: middle;\n",
       "    }\n",
       "\n",
       "    .dataframe tbody tr th {\n",
       "        vertical-align: top;\n",
       "    }\n",
       "\n",
       "    .dataframe thead th {\n",
       "        text-align: right;\n",
       "    }\n",
       "</style>\n",
       "<table border=\"1\" class=\"dataframe\">\n",
       "  <thead>\n",
       "    <tr style=\"text-align: right;\">\n",
       "      <th></th>\n",
       "      <th>id</th>\n",
       "      <th>text</th>\n",
       "      <th>coordinates</th>\n",
       "    </tr>\n",
       "  </thead>\n",
       "  <tbody>\n",
       "    <tr>\n",
       "      <th>0</th>\n",
       "      <td>1248467312014798848</td>\n",
       "      <td>night day manhattan, sit middle intersection i...</td>\n",
       "      <td>-74.0064,40.7142</td>\n",
       "    </tr>\n",
       "    <tr>\n",
       "      <th>1</th>\n",
       "      <td>1248531648351801345</td>\n",
       "      <td>donât want catch body just like corona virus...</td>\n",
       "      <td>36.81666667,-1.28333333</td>\n",
       "    </tr>\n",
       "    <tr>\n",
       "      <th>2</th>\n",
       "      <td>1248549294723997696</td>\n",
       "      <td>ð®ð± israel ð®: 10ð 183ð ð®: 68ð...</td>\n",
       "      <td>35,31</td>\n",
       "    </tr>\n",
       "    <tr>\n",
       "      <th>3</th>\n",
       "      <td>1248534172324560896</td>\n",
       "      <td>corona awoof sale tokunbo 2003 camry price. 90...</td>\n",
       "      <td>3.36494044,6.57778852</td>\n",
       "    </tr>\n",
       "    <tr>\n",
       "      <th>5</th>\n",
       "      <td>1248511969298087936</td>\n",
       "      <td>ð©ð° denmark ð®: 10ð 518ð ð®: 44...</td>\n",
       "      <td>9.5018,56.2639</td>\n",
       "    </tr>\n",
       "  </tbody>\n",
       "</table>\n",
       "</div>"
      ],
      "text/plain": [
       "                    id                                               text  \\\n",
       "0  1248467312014798848  night day manhattan, sit middle intersection i...   \n",
       "1  1248531648351801345  donât want catch body just like corona virus...   \n",
       "2  1248549294723997696  ð®ð± israel ð®: 10ð 183ð ð®: 68ð...   \n",
       "3  1248534172324560896  corona awoof sale tokunbo 2003 camry price. 90...   \n",
       "5  1248511969298087936  ð©ð° denmark ð®: 10ð 518ð ð®: 44...   \n",
       "\n",
       "               coordinates  \n",
       "0         -74.0064,40.7142  \n",
       "1  36.81666667,-1.28333333  \n",
       "2                    35,31  \n",
       "3    3.36494044,6.57778852  \n",
       "5           9.5018,56.2639  "
      ]
     },
     "execution_count": 58,
     "metadata": {},
     "output_type": "execute_result"
    }
   ],
   "source": [
    "#Show the df\n",
    "df.head()"
   ]
  },
  {
   "cell_type": "code",
   "execution_count": 60,
   "metadata": {
    "scrolled": true
   },
   "outputs": [],
   "source": [
    "df.to_csv(\"../Raw_data/Hydrated/cleaned_geo_with_processed_text.csv\")"
   ]
  },
  {
   "cell_type": "code",
   "execution_count": null,
   "metadata": {
    "scrolled": true
   },
   "outputs": [],
   "source": []
  },
  {
   "cell_type": "code",
   "execution_count": null,
   "metadata": {
    "scrolled": true
   },
   "outputs": [],
   "source": []
  },
  {
   "cell_type": "code",
   "execution_count": null,
   "metadata": {},
   "outputs": [],
   "source": []
  },
  {
   "cell_type": "code",
   "execution_count": null,
   "metadata": {},
   "outputs": [],
   "source": []
  }
 ],
 "metadata": {
  "kernelspec": {
   "display_name": "Python 3",
   "language": "python",
   "name": "python3"
  },
  "language_info": {
   "codemirror_mode": {
    "name": "ipython",
    "version": 3
   },
   "file_extension": ".py",
   "mimetype": "text/x-python",
   "name": "python",
   "nbconvert_exporter": "python",
   "pygments_lexer": "ipython3",
   "version": "3.8.3"
  }
 },
 "nbformat": 4,
 "nbformat_minor": 4
}
